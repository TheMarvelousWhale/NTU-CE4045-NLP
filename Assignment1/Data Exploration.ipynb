{
 "cells": [
  {
   "cell_type": "code",
   "execution_count": 46,
   "id": "5e611cfb-3341-4510-8846-21773484dfd9",
   "metadata": {},
   "outputs": [],
   "source": [
    "import requests\n",
    "from bs4 import BeautifulSoup\n",
    "\n",
    "from nltk.tokenize import sent_tokenize, word_tokenize\n",
    "from nltk.stem import PorterStemmer, WordNetLemmatizer\n",
    "from nltk.corpus import stopwords\n",
    "\n",
    "from collections import Counter\n",
    "import json,re,random\n",
    "import matplotlib.pyplot as plt\n",
    "import nltk\n",
    "import pandas as pd\n",
    "import spacy\n",
    "\n",
    "#preparing the tools\n",
    "\n",
    "\n",
    "ps = PorterStemmer()\n",
    "lz = WordNetLemmatizer()\n",
    "en_stopwords = stopwords.words('english')\n"
   ]
  },
  {
   "cell_type": "code",
   "execution_count": 2,
   "id": "ec9f32be",
   "metadata": {},
   "outputs": [],
   "source": [
    "# Load SpaCy models\n",
    "nlp_sm = spacy.load(\"en_core_web_sm\")\n",
    "nlp_trf = spacy.load(\"en_core_web_trf\")"
   ]
  },
  {
   "cell_type": "code",
   "execution_count": null,
   "id": "6fd28adc",
   "metadata": {
    "scrolled": true
   },
   "outputs": [],
   "source": [
    "# Run if SpaCy model hasn't been downloaded before\n",
    "!python -m spacy download en_core_web_sm\n",
    "!python -m spacy download en_core_web_trf"
   ]
  },
  {
   "cell_type": "code",
   "execution_count": null,
   "id": "29e7fd9c",
   "metadata": {},
   "outputs": [],
   "source": [
    "# Need to run if stopwords not downloaded before.\n",
    "import nltk\n",
    "nltk.download('stopwords')\n",
    "nltk.download('punkt')\n",
    "nltk.download('averaged_perceptron_tagger')"
   ]
  },
  {
   "cell_type": "code",
   "execution_count": 3,
   "id": "db579179-4f5a-48d2-b6b9-a44cd53e9d2f",
   "metadata": {},
   "outputs": [
    {
     "name": "stdout",
     "output_type": "stream",
     "text": [
      "Processed 20 lines of data\n",
      "\n",
      "\n",
      "Sample data\n",
      "{\n",
      "    \"business_id\": \"Z66xO_B7trDah8F0PKwRqg\",\n",
      "    \"cool\": 0,\n",
      "    \"date\": \"2018-05-28 20:32:27\",\n",
      "    \"funny\": 0,\n",
      "    \"review_id\": \"Pin7lN2A9XzBVpzgq4-wgQ\",\n",
      "    \"stars\": 4.0,\n",
      "    \"text\": \"We stopped by for a little shopping. The mall is nicer than most and has plenty of stores. It was a nice way to spend a few hours before heading on to another adventure.\",\n",
      "    \"useful\": 1,\n",
      "    \"user_id\": \"EYnRRWIOlxKcylR457hSMg\"\n",
      "}\n"
     ]
    }
   ],
   "source": [
    "sample_file = './reviewSamples20.json'\n",
    "\n",
    "# Clean data\n",
    "def clean_text(sum_string):\n",
    "    s = re.sub('[\\r\\n\\s]+',' ',sum_string) #clean whitespce and newline\n",
    "    return s\n",
    "\n",
    "#data importing and formating\n",
    "def process_raw_data(data_in_weird_format_file):\n",
    "    with open(data_in_weird_format_file,'r') as f:\n",
    "        raw_data = f.read()\n",
    "    data = raw_data.split('}\\n')\n",
    "    return [x+'}' for x in data if x != '']\n",
    "data = process_raw_data(sample_file)\n",
    "print(f'Processed {len(data)} lines of data')\n",
    "\n",
    "_sample_data = json.loads(random.choice(data))\n",
    "print('\\n\\nSample data')\n",
    "print(json.dumps(_sample_data, indent=4, sort_keys=True))\n",
    "\n"
   ]
  },
  {
   "cell_type": "code",
   "execution_count": 4,
   "id": "c5e0e060-bf51-48a9-8d05-070300d10365",
   "metadata": {},
   "outputs": [
    {
     "name": "stdout",
     "output_type": "stream",
     "text": [
      "0\tdict_keys(['review_id', 'user_id', 'business_id', 'stars', 'useful', 'funny', 'cool', 'text', 'date'])\n",
      "1\tdict_keys(['review_id', 'user_id', 'business_id', 'stars', 'useful', 'funny', 'cool', 'text', 'date'])\n",
      "2\tdict_keys(['review_id', 'user_id', 'business_id', 'stars', 'useful', 'funny', 'cool', 'text', 'date'])\n",
      "3\tdict_keys(['review_id', 'user_id', 'business_id', 'stars', 'useful', 'funny', 'cool', 'text', 'date'])\n",
      "4\tdict_keys(['review_id', 'user_id', 'business_id', 'stars', 'useful', 'funny', 'cool', 'text', 'date'])\n",
      "5\tdict_keys(['review_id', 'user_id', 'business_id', 'stars', 'useful', 'funny', 'cool', 'text', 'date'])\n",
      "6\tdict_keys(['review_id', 'user_id', 'business_id', 'stars', 'useful', 'funny', 'cool', 'text', 'date'])\n",
      "7\tdict_keys(['review_id', 'user_id', 'business_id', 'stars', 'useful', 'funny', 'cool', 'text', 'date'])\n",
      "8\tdict_keys(['review_id', 'user_id', 'business_id', 'stars', 'useful', 'funny', 'cool', 'text', 'date'])\n",
      "9\tdict_keys(['review_id', 'user_id', 'business_id', 'stars', 'useful', 'funny', 'cool', 'text', 'date'])\n",
      "10\tdict_keys(['review_id', 'user_id', 'business_id', 'stars', 'useful', 'funny', 'cool', 'text', 'date'])\n",
      "11\tdict_keys(['review_id', 'user_id', 'business_id', 'stars', 'useful', 'funny', 'cool', 'text', 'date'])\n",
      "12\tdict_keys(['review_id', 'user_id', 'business_id', 'stars', 'useful', 'funny', 'cool', 'text', 'date'])\n",
      "13\tdict_keys(['review_id', 'user_id', 'business_id', 'stars', 'useful', 'funny', 'cool', 'text', 'date'])\n",
      "14\tdict_keys(['review_id', 'user_id', 'business_id', 'stars', 'useful', 'funny', 'cool', 'text', 'date'])\n",
      "15\tdict_keys(['review_id', 'user_id', 'business_id', 'stars', 'useful', 'funny', 'cool', 'text', 'date'])\n",
      "16\tdict_keys(['review_id', 'user_id', 'business_id', 'stars', 'useful', 'funny', 'cool', 'text', 'date'])\n",
      "17\tdict_keys(['review_id', 'user_id', 'business_id', 'stars', 'useful', 'funny', 'cool', 'text', 'date'])\n",
      "18\tdict_keys(['review_id', 'user_id', 'business_id', 'stars', 'useful', 'funny', 'cool', 'text', 'date'])\n",
      "19\tdict_keys(['review_id', 'user_id', 'business_id', 'stars', 'useful', 'funny', 'cool', 'text', 'date'])\n"
     ]
    }
   ],
   "source": [
    "#Check if they have the same keys\n",
    "json_list = [json.loads(x) for x in data]\n",
    "for i,_json in enumerate(json_list):\n",
    "    print(f\"{i}\\t{_json.keys()}\")"
   ]
  },
  {
   "cell_type": "code",
   "execution_count": 5,
   "id": "1a6a4499-d1df-4c5b-b902-89cb182b7a3b",
   "metadata": {},
   "outputs": [],
   "source": [
    "big_data_file = './reviewSelected100.json'\n",
    "\n",
    "big_data = process_raw_data(big_data_file)\n",
    "\n",
    "big_json = [json.loads(x) for x in big_data]\n",
    "\n",
    "#Collecting all unique the business id\n",
    "business_id_list = list({x['business_id'] for x in big_json})  #make it a set via set comprehension {}, then call tolist\n",
    "\n",
    "#Selecting a random business and their review\n",
    "chosen_id_1 = random.choice(business_id_list)\n",
    "chosen_business_1 = [x for x in big_json if x['business_id'] == chosen_id_1]\n",
    "\n",
    "chosen_id_2 = chosen_id_1\n",
    "while chosen_id_2 == chosen_id_1:\n",
    "    chosen_id_2 = random.choice(business_id_list)\n",
    "chosen_business_2 = [x for x in big_json if x['business_id'] == chosen_id_2]\n",
    "#Because we have to repeat the whole thing for 2 businesses, we need to wrap the functions into a single wrapper for reuse\n"
   ]
  },
  {
   "cell_type": "code",
   "execution_count": 6,
   "id": "88a8ed40-3486-45a6-9648-b679be402068",
   "metadata": {},
   "outputs": [
    {
     "name": "stdout",
     "output_type": "stream",
     "text": [
      "{'useful': Counter({0: 8238, 1: 3265, 2: 1552, 3: 805, 4: 442, 5: 280, 6: 164, 7: 122, 8: 76, 9: 67, 10: 51, 11: 50, 12: 32, 13: 29, 14: 21, 15: 18, 16: 10, 20: 9, 19: 7, 22: 7, 23: 6, 24: 6, 18: 6, 17: 5, 21: 5, 25: 4, 30: 4, 28: 2, 34: 2, 31: 2, 27: 1, 40: 1, 65: 1, 35: 1, 46: 1, 41: 1, 48: 1, 36: 1, 85: 1, 191: 1, 43: 1, 59: 1, 64: 1})}\n",
      "\n",
      "{'stars': Counter({5.0: 6159, 4.0: 3559, 1.0: 2306, 3.0: 1904, 2.0: 1372})}\n",
      "\n",
      "{'funny': Counter({0: 12268, 1: 1862, 2: 563, 3: 231, 4: 107, 5: 81, 6: 61, 7: 31, 9: 21, 8: 17, 10: 10, 11: 9, 13: 6, 19: 4, 12: 4, 25: 3, 15: 3, 17: 2, 16: 2, 35: 2, 20: 2, 40: 2, 28: 2, 33: 1, 18: 1, 14: 1, 122: 1, 38: 1, 56: 1, 43: 1})}\n",
      "\n",
      "{'cool': Counter({0: 11607, 1: 2299, 2: 734, 3: 259, 4: 115, 5: 74, 6: 57, 7: 31, 9: 27, 8: 18, 10: 15, 13: 11, 11: 10, 12: 9, 14: 5, 18: 5, 15: 3, 19: 2, 60: 2, 17: 2, 24: 2, 20: 2, 32: 1, 44: 1, 43: 1, 16: 1, 40: 1, 34: 1, 82: 1, 23: 1, 22: 1, 180: 1, 41: 1})}\n",
      "\n"
     ]
    }
   ],
   "source": [
    "for y in ['useful','stars','funny','cool']:\n",
    "    print({y:Counter(x[y] for x in big_json)})\n",
    "    print()"
   ]
  },
  {
   "cell_type": "code",
   "execution_count": 7,
   "id": "cb9463b6-f3c0-42ad-bd8c-5cc8a01ff06f",
   "metadata": {},
   "outputs": [],
   "source": [
    "\n",
    "#Wrapper for analysis  -- not too sure if the inside functions should throw outside anot it's quite task specific\n",
    "def analyze_business(chosen_business):\n",
    "    \n",
    "    #collating all reviews into one string\n",
    "    all_dem_reviews = ''.join([x['text'] for x in chosen_business])\n",
    "\n",
    "\n",
    "    all_dem_clean_reviews = clean_text(all_dem_reviews)\n",
    "\n",
    "    #for word distribution, we need to clean all punctuations and symbols as well as standardize the case\n",
    "    def build_word_frequency(text,blacklist=[],stemmer=None):\n",
    "        assert type(text) == str, \"Expecting a str input\"\n",
    "        s = re.sub('[^a-z]+',' ',text.lower())\n",
    "        s = re.sub('[\\n\\r\\s]+',' ',s)\n",
    "        vocab = Counter()\n",
    "        for word in s.split(' '):\n",
    "            if word in blacklist:\n",
    "                continue\n",
    "            if stemmer!= None:\n",
    "                word = stemmer.stem(word)\n",
    "            vocab.update([word])  #preventing the counter object to update using each letter by using []\n",
    "        return vocab\n",
    "\n",
    "    review_vocab_bef_stem = build_word_frequency(all_dem_clean_reviews,blacklist=en_stopwords)\n",
    "    review_vocab_after_stem = build_word_frequency(all_dem_clean_reviews,blacklist=en_stopwords,stemmer = ps)\n",
    "\n",
    "    print(\"Before stemming, most 10 common words:\")\n",
    "    for x in review_vocab_bef_stem.most_common(10):\n",
    "        print('\\t',x[0].ljust(15,' '),x[1])  #justify the column abit\n",
    "\n",
    "    print('\\n\\n')\n",
    "\n",
    "    print(\"After stemming, most 10 common words:\")\n",
    "    for x in review_vocab_after_stem.most_common(10):\n",
    "        print('\\t',x[0].ljust(15,' '),x[1])\n",
    "    \n",
    "    #Plotting the word distribution\n",
    "    def plot_word_freq_dist(the_vocab):\n",
    "        fig = plt.figure()\n",
    "        ax = fig.add_subplot(1, 1, 1)\n",
    "\n",
    "        line = ax.plot(the_vocab.values())\n",
    "\n",
    "        ax.set_yscale('log')\n",
    "        plt.show()\n",
    "\n",
    "    plot_word_freq_dist(review_vocab_after_stem)\n",
    "        \n"
   ]
  },
  {
   "cell_type": "code",
   "execution_count": 26,
   "id": "7933cf87-f944-4c26-83d2-1a614499a18a",
   "metadata": {},
   "outputs": [
    {
     "name": "stdout",
     "output_type": "stream",
     "text": [
      "Before stemming, most 10 common words:\n",
      "\t spa             75\n",
      "\t massage         61\n",
      "\t time            56\n",
      "\t door            47\n",
      "\t red             46\n",
      "\t back            42\n",
      "\t experience      41\n",
      "\t great           37\n",
      "\t would           34\n",
      "\t facial          33\n",
      "\n",
      "\n",
      "\n",
      "After stemming, most 10 common words:\n",
      "\t spa             87\n",
      "\t massag          75\n",
      "\t time            63\n",
      "\t servic          57\n",
      "\t door            47\n",
      "\t red             46\n",
      "\t facial          44\n",
      "\t experi          44\n",
      "\t go              44\n",
      "\t back            43\n"
     ]
    },
    {
     "data": {
      "image/png": "[encoded data removed]",
      "text/plain": [
       "<Figure size 432x288 with 1 Axes>"
      ]
     },
     "metadata": {
      "needs_background": "light"
     },
     "output_type": "display_data"
    }
   ],
   "source": [
    "analyze_business(chosen_business_1)"
   ]
  },
  {
   "cell_type": "code",
   "execution_count": 27,
   "id": "9efa1578-cde4-461b-ac24-ed4fb38d58b8",
   "metadata": {},
   "outputs": [
    {
     "name": "stdout",
     "output_type": "stream",
     "text": [
      "Before stemming, most 10 common words:\n",
      "\t food            155\n",
      "\t truck           108\n",
      "\t catfish         94\n",
      "\t cajun           64\n",
      "\t jamburrito      53\n",
      "\t good            51\n",
      "\t chicken         50\n",
      "\t burrito         45\n",
      "\t hush            41\n",
      "\t jamburritos     41\n",
      "\n",
      "\n",
      "\n",
      "After stemming, most 10 common words:\n",
      "\t food            158\n",
      "\t truck           131\n",
      "\t catfish         94\n",
      "\t jamburrito      94\n",
      "\t cajun           64\n",
      "\t good            57\n",
      "\t burrito         55\n",
      "\t tri             53\n",
      "\t chicken         50\n",
      "\t like            41\n"
     ]
    },
    {
     "data": {
      "image/png": "[encoded data removed]",
      "text/plain": [
       "<Figure size 432x288 with 1 Axes>"
      ]
     },
     "metadata": {
      "needs_background": "light"
     },
     "output_type": "display_data"
    }
   ],
   "source": [
    "analyze_business(chosen_business_2)"
   ]
  },
  {
   "cell_type": "markdown",
   "id": "f423f51a-ed3a-46d3-a21b-fc0d658c109a",
   "metadata": {},
   "source": [
    "## 3.2.2 POS Tagging\n",
    "\n",
    "```\n",
    " git blame manekiyong\n",
    "```\n",
    "TBD:\n",
    "* Compare with another Library?\n",
    "* Compare token.tag_ vs token.pos_ (fine-grained vs coarse grained)"
   ]
  },
  {
   "cell_type": "code",
   "execution_count": 43,
   "id": "ab1f3d92",
   "metadata": {},
   "outputs": [],
   "source": [
    "def analyze_pos(sampled_reviews):\n",
    "    for review in sampled_reviews:\n",
    "        cleaned_review = clean_text(review['text'])\n",
    "        print(cleaned_review)\n",
    "        tokenized_review = word_tokenize(cleaned_review)\n",
    "        print(nltk.pos_tag(tokenized_review)) #NLTK POS taggers uses tag from the Penn Tree Bank tagset. \n",
    "        print(\"\")\n",
    "        # To find another POS Tagging technique for comparison\n",
    "        \n",
    "def pos_spacy(sampled_reviews):\n",
    "    #sm F1 for POS 0.97, trf F1 for POS 0.98\n",
    "    pos_df = pd.DataFrame(columns=[\"token\", \"sm_pos\", \"trf_pos\", \"match\"])\n",
    "    for review in sampled_reviews:\n",
    "        doc_sm = nlp_sm(review['text'])\n",
    "        doc_trf = nlp_trf(review['text'])\n",
    "        for token_sm, token_trf in zip(doc_sm, doc_trf):\n",
    "            temp_dict = {\n",
    "                \"token\":str(token_sm),\n",
    "                \"sm_pos\":token_sm.pos_,\n",
    "                \"trf_pos\":token_trf.pos_,\n",
    "                \"match\":token_trf.pos_== token_sm.pos_\n",
    "            }\n",
    "            pos_df=pos_df.append(temp_dict, ignore_index=True)\n",
    "    return pos_df"
   ]
  },
  {
   "cell_type": "code",
   "execution_count": 44,
   "id": "e2aba090",
   "metadata": {},
   "outputs": [],
   "source": [
    "random_reviews = random.sample(big_json,5)\n",
    "# analyze_pos(random_reviews)\n",
    "df = pos_spacy(random_reviews)"
   ]
  },
  {
   "cell_type": "code",
   "execution_count": 64,
   "id": "93dbf5b7",
   "metadata": {},
   "outputs": [],
   "source": [
    "# tokenized_review = word_tokenize(random_reviews[0]['text'])\n",
    "# doc_trf = nlp_trf(random_reviews[0]['text'])\n",
    "# print(len(tokenized_review))\n",
    "# len(doc_trf)\n",
    "# for index, i in enumerate(doc_trf):\n",
    "#     print(i, tokenized_review[index])"
   ]
  },
  {
   "cell_type": "code",
   "execution_count": 10,
   "id": "7a4f8f24",
   "metadata": {},
   "outputs": [
    {
     "data": {
      "text/html": [
       "<div>\n",
       "<style scoped>\n",
       "    .dataframe tbody tr th:only-of-type {\n",
       "        vertical-align: middle;\n",
       "    }\n",
       "\n",
       "    .dataframe tbody tr th {\n",
       "        vertical-align: top;\n",
       "    }\n",
       "\n",
       "    .dataframe thead th {\n",
       "        text-align: right;\n",
       "    }\n",
       "</style>\n",
       "<table border=\"1\" class=\"dataframe\">\n",
       "  <thead>\n",
       "    <tr style=\"text-align: right;\">\n",
       "      <th></th>\n",
       "      <th>token</th>\n",
       "      <th>sm_pos</th>\n",
       "      <th>trf_pos</th>\n",
       "      <th>match</th>\n",
       "    </tr>\n",
       "  </thead>\n",
       "  <tbody>\n",
       "    <tr>\n",
       "      <th>0</th>\n",
       "      <td>So</td>\n",
       "      <td>ADV</td>\n",
       "      <td>CCONJ</td>\n",
       "      <td>False</td>\n",
       "    </tr>\n",
       "    <tr>\n",
       "      <th>1</th>\n",
       "      <td>I</td>\n",
       "      <td>PRON</td>\n",
       "      <td>PRON</td>\n",
       "      <td>True</td>\n",
       "    </tr>\n",
       "    <tr>\n",
       "      <th>2</th>\n",
       "      <td>went</td>\n",
       "      <td>VERB</td>\n",
       "      <td>VERB</td>\n",
       "      <td>True</td>\n",
       "    </tr>\n",
       "    <tr>\n",
       "      <th>3</th>\n",
       "      <td>here</td>\n",
       "      <td>ADV</td>\n",
       "      <td>ADV</td>\n",
       "      <td>True</td>\n",
       "    </tr>\n",
       "    <tr>\n",
       "      <th>4</th>\n",
       "      <td>again</td>\n",
       "      <td>ADV</td>\n",
       "      <td>ADV</td>\n",
       "      <td>True</td>\n",
       "    </tr>\n",
       "    <tr>\n",
       "      <th>...</th>\n",
       "      <td>...</td>\n",
       "      <td>...</td>\n",
       "      <td>...</td>\n",
       "      <td>...</td>\n",
       "    </tr>\n",
       "    <tr>\n",
       "      <th>659</th>\n",
       "      <td>I</td>\n",
       "      <td>PRON</td>\n",
       "      <td>PRON</td>\n",
       "      <td>True</td>\n",
       "    </tr>\n",
       "    <tr>\n",
       "      <th>660</th>\n",
       "      <td>will</td>\n",
       "      <td>AUX</td>\n",
       "      <td>AUX</td>\n",
       "      <td>True</td>\n",
       "    </tr>\n",
       "    <tr>\n",
       "      <th>661</th>\n",
       "      <td>be</td>\n",
       "      <td>VERB</td>\n",
       "      <td>VERB</td>\n",
       "      <td>True</td>\n",
       "    </tr>\n",
       "    <tr>\n",
       "      <th>662</th>\n",
       "      <td>back</td>\n",
       "      <td>ADV</td>\n",
       "      <td>ADV</td>\n",
       "      <td>True</td>\n",
       "    </tr>\n",
       "    <tr>\n",
       "      <th>663</th>\n",
       "      <td>!</td>\n",
       "      <td>PUNCT</td>\n",
       "      <td>PUNCT</td>\n",
       "      <td>True</td>\n",
       "    </tr>\n",
       "  </tbody>\n",
       "</table>\n",
       "<p>664 rows × 4 columns</p>\n",
       "</div>"
      ],
      "text/plain": [
       "     token sm_pos trf_pos  match\n",
       "0       So    ADV   CCONJ  False\n",
       "1        I   PRON    PRON   True\n",
       "2     went   VERB    VERB   True\n",
       "3     here    ADV     ADV   True\n",
       "4    again    ADV     ADV   True\n",
       "..     ...    ...     ...    ...\n",
       "659      I   PRON    PRON   True\n",
       "660   will    AUX     AUX   True\n",
       "661     be   VERB    VERB   True\n",
       "662   back    ADV     ADV   True\n",
       "663      !  PUNCT   PUNCT   True\n",
       "\n",
       "[664 rows x 4 columns]"
      ]
     },
     "execution_count": 10,
     "metadata": {},
     "output_type": "execute_result"
    }
   ],
   "source": [
    "df"
   ]
  },
  {
   "cell_type": "markdown",
   "id": "6922af46-6584-45b6-899f-fac25f87fd4f",
   "metadata": {},
   "source": [
    "## 3.2.3 Writing Styles\n",
    "\n",
    "Discussion points based on the formality of the way of writing, proper use of English sentence structure such as good grammar, proper pronouns, capitalization, and terms used in the posts.\n",
    "\n",
    "### Stack Overflow\n",
    "Stack Overflow has a relatively less formal way of writing. Informal words like \"Doesn't, I'm, I've...\" are more prevalent that its counterpart. In general, we could observe decent use of English and sentence structure. However, that could be better. In many posts, the start of their sentences and bullet points are not capitalised. Moreover, usage of some words are incorrect e.g. Conjunctions used in the post body \"So I can filter them out...\" or \"And now we see that using ...\". It is worth noting that there are technical terms and codes used in Stack Overflow that could be Out Of Vocabulary (OOV) words. For example, tree_.__getstate__() and graphviz' .dot file are used in the posts but the words are OOV. Therefore, tokenization need to be altered to account for unknown tokens (UNKs). Similarly, we should use a software-specific POS tagger to handle the text from Stack Overflow.\n",
    "\n",
    "\n",
    "### Hardware Zone\n",
    "Hardware Zone has two main components - news and forums. The news portion is similar to Channel NewsAsia as most of the news are retrieved from proper news websites, our group will be focusing on the forums. The forums are filled with informal way of writing. The users are mainly Singaporeans, which can explain the common use of Singlish, improper English and structure. On one of the posts - 'any reviews for their boxes? like streams always buffering??', we can observe the lack of capitalisation, use of broken English and exccessive use of punctuation. For another post, it utilised Singlish - 'Change to dark mode lor'. There is also frequent use of emojis or expressions in many posts. Hence, the terms used could be less complex in Hardware Zone as there is very little complex technical terms and unique words used as compared to Stack Overflow.\n",
    "\n",
    "### Channel NewsAsia\n",
    "Channel NewsAsia is a news platform. The journalists are proficient in English and there are many layers of vetting before a post is published. On that account, Channel NewsAsia has a formal way of writing, the most proper use of English sentence structure as compared to the other two counterparts. The posts have proper punctuations and sentence structures. Each sentence is gramatically correct, has capitalisation at the start and proper nouns are capitalised. There might be some unknown terms used such as 'Oxbotica' or 'AppliedEV' but with proper sentence structures, there is enough context to understand. Out of all 3  websites, it would be the easiest to apply tokenization and POS tagging directly to this news posts.\n",
    "\n",
    "Sources:\n",
    "Stack Overflow\n",
    "https://stackoverflow.com/questions/32506951/how-to-explore-a-decision-tree-built-using-scikit-learn\n",
    "https://stackoverflow.com/questions/3437059/does-python-have-a-string-contains-substring-method\n",
    "\n",
    "Hardware Zone\n",
    "https://forums.hardwarezone.com.sg/threads/new-forum-bugs-reporting-list.6488755/\n",
    "https://forums.hardwarezone.com.sg/threads/android-tv-box.5678618/\n",
    "\n",
    "Channel NewsAsia\n",
    "https://www.channelnewsasia.com/business/oxbotica-develop-multi-purpose-self-driving-vehicle-appliedev-2162676\n",
    "https://www.channelnewsasia.com/business/new-zealand-banks-post-office-hit-outages-apparent-cyber-attack-2162891"
   ]
  },
  {
   "cell_type": "markdown",
   "id": "c7efba8a-49b7-4f56-93c4-da55e4e816fd",
   "metadata": {},
   "source": [
    "## Most frequent ⟨ Noun - Adjective ⟩ pairs for each rating.\n",
    "\n",
    "```\n",
    "git blame sun aixin\n",
    "\n",
    "consider word cloud\n",
    "```\n",
    "\n",
    "Limitations: \n",
    "* Assuming i have a phrase: `Not a good thing | RB | DT | JJ | NN | ` , solely looking at ADJ NOUN here would discard the negation (Not)\n",
    "* Since we are only analyzing English text, some foreign cuisines may not be captured; for example, `dolsot bibimbap` would be seen as proper noun, but in actual fact, it is translated to `Hot stone pot bibimbap`"
   ]
  },
  {
   "cell_type": "code",
   "execution_count": 102,
   "id": "01363ad9",
   "metadata": {
    "scrolled": true
   },
   "outputs": [],
   "source": [
    "def generate_phrase_dict(review_list):\n",
    "    phrase_dict = {}\n",
    "    adj_list = ['JJ', 'JJR', 'JJS'] #JJ: Adjective; JJR: comparative adjective; JJS: superlative adjective\n",
    "    noun_list = ['NN', 'NNS', 'NNP', 'NNPS'] #NN: Singular Noun; #NNS: Plural Noun; #NNP: Singular Proper Noun, #NNPS: Plural Proper Noun\n",
    "    for review in review_list:\n",
    "        doc = nlp_trf(review['text'])\n",
    "        for phrase in doc.noun_chunks:\n",
    "            start = -1\n",
    "            fin = -1\n",
    "            print(phrase, end=\" | \")\n",
    "            for index, i in enumerate(phrase):\n",
    "                print(i.tag_, end=\" | \")\n",
    "                if i.tag_ in adj_list and start == -1:\n",
    "\n",
    "                    start = index\n",
    "            for index, i in enumerate(reversed(phrase)):\n",
    "                if i.tag_ in noun_list and fin == -1:\n",
    "                    fin = len(phrase)-index\n",
    "                    break\n",
    "            print(\"\")\n",
    "            if start==-1 or fin==-1:\n",
    "                print(\"No adj-noun found\")\n",
    "            else:\n",
    "                print(\"Phrase:\", phrase[start:fin])\n",
    "                sub_phrase = str(phrase[start:fin]).lower()\n",
    "                if sub_phrase in phrase_dict:\n",
    "                    phrase_dict[sub_phrase] = phrase_dict[sub_phrase]+1\n",
    "                else:\n",
    "                    phrase_dict[sub_phrase]=1\n",
    "            print(\"\")     \n",
    "    return phrase_dict"
   ]
  },
  {
   "cell_type": "code",
   "execution_count": 106,
   "id": "4376d8c5",
   "metadata": {},
   "outputs": [],
   "source": [
    "# Populate individual list by stars\n",
    "stars_1 = []\n",
    "stars_2 = []\n",
    "stars_3 = []\n",
    "stars_4 = []\n",
    "stars_5 = []\n",
    "for i in big_json:\n",
    "    if i['stars']==1:\n",
    "        stars_1.append(i)\n",
    "    elif i['stars'] == 2:\n",
    "        stars_2.append(i)\n",
    "    elif i['stars'] ==3:\n",
    "        stars_3.append(i)\n",
    "    elif i['stars'] == 4:\n",
    "        stars_4.append(i)\n",
    "    else:\n",
    "        stars_5.append(i)"
   ]
  },
  {
   "cell_type": "code",
   "execution_count": null,
   "id": "c62f383e",
   "metadata": {
    "scrolled": true
   },
   "outputs": [],
   "source": [
    "random_reviews = random.sample(stars_1,50)\n",
    "phrase_dict_1 = generate_phrase_dict(random_reviews)"
   ]
  },
  {
   "cell_type": "code",
   "execution_count": null,
   "id": "9160a1a9",
   "metadata": {},
   "outputs": [],
   "source": [
    "phrase_dict_1"
   ]
  },
  {
   "cell_type": "markdown",
   "id": "ba7b2607-2b87-43f0-871c-62266770969f",
   "metadata": {},
   "source": [
    "## 3.3 Indicative Adjective Phrases \n",
    "\n",
    "gonna need:\n",
    "* Adjective pair extractor\n",
    "* tf-idf "
   ]
  },
  {
   "cell_type": "code",
   "execution_count": null,
   "id": "00e69ffb-5bb9-4c9e-83cf-c86581021ddd",
   "metadata": {},
   "outputs": [],
   "source": []
  }
 ],
 "metadata": {
  "kernelspec": {
   "display_name": "Python 3 (ipykernel)",
   "language": "python",
   "name": "python3"
  },
  "language_info": {
   "codemirror_mode": {
    "name": "ipython",
    "version": 3
   },
   "file_extension": ".py",
   "mimetype": "text/x-python",
   "name": "python",
   "nbconvert_exporter": "python",
   "pygments_lexer": "ipython3",
   "version": "3.9.6"
  }
 },
 "nbformat": 4,
 "nbformat_minor": 5
}
