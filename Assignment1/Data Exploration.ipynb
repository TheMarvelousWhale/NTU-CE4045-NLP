{
 "cells": [
  {
   "cell_type": "code",
   "execution_count": 1,
   "id": "5e611cfb-3341-4510-8846-21773484dfd9",
   "metadata": {},
   "outputs": [],
   "source": [
    "import requests\n",
    "from bs4 import BeautifulSoup\n",
    "\n",
    "from nltk.tokenize import sent_tokenize, word_tokenize\n",
    "from nltk.stem import PorterStemmer, WordNetLemmatizer\n",
    "from nltk.corpus import stopwords\n",
    "\n",
    "from collections import Counter\n",
    "import json,re,random\n",
    "import matplotlib.pyplot as plt\n",
    "import nltk\n",
    "import pandas as pd\n",
    "import spacy\n",
    "\n",
    "#preparing the tools\n",
    "\n",
    "\n",
    "ps = PorterStemmer()\n",
    "lz = WordNetLemmatizer()\n",
    "en_stopwords = stopwords.words('english')\n"
   ]
  },
  {
   "cell_type": "code",
   "execution_count": 2,
   "id": "ec9f32be",
   "metadata": {},
   "outputs": [],
   "source": [
    "# Load SpaCy models\n",
    "nlp_sm = spacy.load(\"en_core_web_sm\")\n",
    "nlp_trf = spacy.load(\"en_core_web_trf\")"
   ]
  },
  {
   "cell_type": "code",
   "execution_count": null,
   "id": "6fd28adc",
   "metadata": {
    "scrolled": true
   },
   "outputs": [],
   "source": [
    "# Run if SpaCy model hasn't been downloaded before\n",
    "# !python -m spacy download en_core_web_sm\n",
    "# !python -m spacy download en_core_web_trf"
   ]
  },
  {
   "cell_type": "code",
   "execution_count": 3,
   "id": "29e7fd9c",
   "metadata": {},
   "outputs": [
    {
     "name": "stderr",
     "output_type": "stream",
     "text": [
      "[nltk_data] Downloading package stopwords to\n",
      "[nltk_data]     C:\\Users\\yongs\\AppData\\Roaming\\nltk_data...\n",
      "[nltk_data]   Package stopwords is already up-to-date!\n",
      "[nltk_data] Downloading package punkt to\n",
      "[nltk_data]     C:\\Users\\yongs\\AppData\\Roaming\\nltk_data...\n",
      "[nltk_data]   Package punkt is already up-to-date!\n",
      "[nltk_data] Downloading package averaged_perceptron_tagger to\n",
      "[nltk_data]     C:\\Users\\yongs\\AppData\\Roaming\\nltk_data...\n",
      "[nltk_data]   Package averaged_perceptron_tagger is already up-to-\n",
      "[nltk_data]       date!\n"
     ]
    },
    {
     "data": {
      "text/plain": [
       "True"
      ]
     },
     "execution_count": 3,
     "metadata": {},
     "output_type": "execute_result"
    }
   ],
   "source": [
    "# Need to run if stopwords not downloaded before.\n",
    "import nltk\n",
    "nltk.download('stopwords')\n",
    "nltk.download('punkt')\n",
    "nltk.download('averaged_perceptron_tagger')"
   ]
  },
  {
   "cell_type": "code",
   "execution_count": 4,
   "id": "db579179-4f5a-48d2-b6b9-a44cd53e9d2f",
   "metadata": {},
   "outputs": [
    {
     "name": "stdout",
     "output_type": "stream",
     "text": [
      "Processed 20 lines of data\n",
      "\n",
      "\n",
      "Sample data\n",
      "{\n",
      "    \"business_id\": \"CGUK3cd2gxp2q3KPY19Oog\",\n",
      "    \"cool\": 0,\n",
      "    \"date\": \"2018-04-15 11:34:34\",\n",
      "    \"funny\": 0,\n",
      "    \"review_id\": \"LrO2MkIWIjAoOeS5WImnrQ\",\n",
      "    \"stars\": 5.0,\n",
      "    \"text\": \"Yum!! Had the kale grits and would definitely have those again! Menu choices are unique, farm fresh and delicious!\",\n",
      "    \"useful\": 0,\n",
      "    \"user_id\": \"hzny0aF2jcUaY8rXN2bfJQ\"\n",
      "}\n"
     ]
    }
   ],
   "source": [
    "sample_file = './reviewSamples20.json'\n",
    "\n",
    "# Clean data\n",
    "def clean_text(sum_string):\n",
    "    s = re.sub('[\\r\\n\\s]+',' ',sum_string) #clean whitespce and newline\n",
    "    return s\n",
    "\n",
    "#data importing and formating\n",
    "def process_raw_data(data_in_weird_format_file):\n",
    "    with open(data_in_weird_format_file,'r') as f:\n",
    "        raw_data = f.read()\n",
    "    data = raw_data.split('}\\n')\n",
    "    return [x+'}' for x in data if x != '']\n",
    "data = process_raw_data(sample_file)\n",
    "print(f'Processed {len(data)} lines of data')\n",
    "\n",
    "_sample_data = json.loads(random.choice(data))\n",
    "print('\\n\\nSample data')\n",
    "print(json.dumps(_sample_data, indent=4, sort_keys=True))\n",
    "\n"
   ]
  },
  {
   "cell_type": "code",
   "execution_count": 5,
   "id": "c5e0e060-bf51-48a9-8d05-070300d10365",
   "metadata": {},
   "outputs": [
    {
     "name": "stdout",
     "output_type": "stream",
     "text": [
      "0\tdict_keys(['review_id', 'user_id', 'business_id', 'stars', 'useful', 'funny', 'cool', 'text', 'date'])\n",
      "1\tdict_keys(['review_id', 'user_id', 'business_id', 'stars', 'useful', 'funny', 'cool', 'text', 'date'])\n",
      "2\tdict_keys(['review_id', 'user_id', 'business_id', 'stars', 'useful', 'funny', 'cool', 'text', 'date'])\n",
      "3\tdict_keys(['review_id', 'user_id', 'business_id', 'stars', 'useful', 'funny', 'cool', 'text', 'date'])\n",
      "4\tdict_keys(['review_id', 'user_id', 'business_id', 'stars', 'useful', 'funny', 'cool', 'text', 'date'])\n",
      "5\tdict_keys(['review_id', 'user_id', 'business_id', 'stars', 'useful', 'funny', 'cool', 'text', 'date'])\n",
      "6\tdict_keys(['review_id', 'user_id', 'business_id', 'stars', 'useful', 'funny', 'cool', 'text', 'date'])\n",
      "7\tdict_keys(['review_id', 'user_id', 'business_id', 'stars', 'useful', 'funny', 'cool', 'text', 'date'])\n",
      "8\tdict_keys(['review_id', 'user_id', 'business_id', 'stars', 'useful', 'funny', 'cool', 'text', 'date'])\n",
      "9\tdict_keys(['review_id', 'user_id', 'business_id', 'stars', 'useful', 'funny', 'cool', 'text', 'date'])\n",
      "10\tdict_keys(['review_id', 'user_id', 'business_id', 'stars', 'useful', 'funny', 'cool', 'text', 'date'])\n",
      "11\tdict_keys(['review_id', 'user_id', 'business_id', 'stars', 'useful', 'funny', 'cool', 'text', 'date'])\n",
      "12\tdict_keys(['review_id', 'user_id', 'business_id', 'stars', 'useful', 'funny', 'cool', 'text', 'date'])\n",
      "13\tdict_keys(['review_id', 'user_id', 'business_id', 'stars', 'useful', 'funny', 'cool', 'text', 'date'])\n",
      "14\tdict_keys(['review_id', 'user_id', 'business_id', 'stars', 'useful', 'funny', 'cool', 'text', 'date'])\n",
      "15\tdict_keys(['review_id', 'user_id', 'business_id', 'stars', 'useful', 'funny', 'cool', 'text', 'date'])\n",
      "16\tdict_keys(['review_id', 'user_id', 'business_id', 'stars', 'useful', 'funny', 'cool', 'text', 'date'])\n",
      "17\tdict_keys(['review_id', 'user_id', 'business_id', 'stars', 'useful', 'funny', 'cool', 'text', 'date'])\n",
      "18\tdict_keys(['review_id', 'user_id', 'business_id', 'stars', 'useful', 'funny', 'cool', 'text', 'date'])\n",
      "19\tdict_keys(['review_id', 'user_id', 'business_id', 'stars', 'useful', 'funny', 'cool', 'text', 'date'])\n"
     ]
    }
   ],
   "source": [
    "#Check if they have the same keys\n",
    "json_list = [json.loads(x) for x in data]\n",
    "for i,_json in enumerate(json_list):\n",
    "    print(f\"{i}\\t{_json.keys()}\")"
   ]
  },
  {
   "cell_type": "code",
   "execution_count": 6,
   "id": "1a6a4499-d1df-4c5b-b902-89cb182b7a3b",
   "metadata": {},
   "outputs": [],
   "source": [
    "big_data_file = './reviewSelected100.json'\n",
    "\n",
    "big_data = process_raw_data(big_data_file)\n",
    "\n",
    "big_json = [json.loads(x) for x in big_data]\n",
    "\n",
    "#Collecting all unique the business id\n",
    "business_id_list = list({x['business_id'] for x in big_json})  #make it a set via set comprehension {}, then call tolist\n",
    "\n",
    "#Selecting a random business and their review\n",
    "chosen_id_1 = random.choice(business_id_list)\n",
    "chosen_business_1 = [x for x in big_json if x['business_id'] == chosen_id_1]\n",
    "\n",
    "chosen_id_2 = chosen_id_1\n",
    "while chosen_id_2 == chosen_id_1:\n",
    "    chosen_id_2 = random.choice(business_id_list)\n",
    "chosen_business_2 = [x for x in big_json if x['business_id'] == chosen_id_2]\n",
    "#Because we have to repeat the whole thing for 2 businesses, we need to wrap the functions into a single wrapper for reuse\n"
   ]
  },
  {
   "cell_type": "code",
   "execution_count": 7,
   "id": "88a8ed40-3486-45a6-9648-b679be402068",
   "metadata": {},
   "outputs": [
    {
     "name": "stdout",
     "output_type": "stream",
     "text": [
      "{'useful': Counter({0: 8238, 1: 3265, 2: 1552, 3: 805, 4: 442, 5: 280, 6: 164, 7: 122, 8: 76, 9: 67, 10: 51, 11: 50, 12: 32, 13: 29, 14: 21, 15: 18, 16: 10, 20: 9, 19: 7, 22: 7, 23: 6, 24: 6, 18: 6, 17: 5, 21: 5, 25: 4, 30: 4, 28: 2, 34: 2, 31: 2, 27: 1, 40: 1, 65: 1, 35: 1, 46: 1, 41: 1, 48: 1, 36: 1, 85: 1, 191: 1, 43: 1, 59: 1, 64: 1})}\n",
      "\n",
      "{'stars': Counter({5.0: 6159, 4.0: 3559, 1.0: 2306, 3.0: 1904, 2.0: 1372})}\n",
      "\n",
      "{'funny': Counter({0: 12268, 1: 1862, 2: 563, 3: 231, 4: 107, 5: 81, 6: 61, 7: 31, 9: 21, 8: 17, 10: 10, 11: 9, 13: 6, 19: 4, 12: 4, 25: 3, 15: 3, 17: 2, 16: 2, 35: 2, 20: 2, 40: 2, 28: 2, 33: 1, 18: 1, 14: 1, 122: 1, 38: 1, 56: 1, 43: 1})}\n",
      "\n",
      "{'cool': Counter({0: 11607, 1: 2299, 2: 734, 3: 259, 4: 115, 5: 74, 6: 57, 7: 31, 9: 27, 8: 18, 10: 15, 13: 11, 11: 10, 12: 9, 14: 5, 18: 5, 15: 3, 19: 2, 60: 2, 17: 2, 24: 2, 20: 2, 32: 1, 44: 1, 43: 1, 16: 1, 40: 1, 34: 1, 82: 1, 23: 1, 22: 1, 180: 1, 41: 1})}\n",
      "\n"
     ]
    }
   ],
   "source": [
    "for y in ['useful','stars','funny','cool']:\n",
    "    print({y:Counter(x[y] for x in big_json)})\n",
    "    print()"
   ]
  },
  {
   "cell_type": "code",
   "execution_count": 8,
   "id": "cb9463b6-f3c0-42ad-bd8c-5cc8a01ff06f",
   "metadata": {},
   "outputs": [],
   "source": [
    "\n",
    "#Wrapper for analysis  -- not too sure if the inside functions should throw outside anot it's quite task specific\n",
    "def analyze_business(chosen_business):\n",
    "    \n",
    "    #collating all reviews into one string\n",
    "    all_dem_reviews = ''.join([x['text'] for x in chosen_business])\n",
    "\n",
    "\n",
    "    all_dem_clean_reviews = clean_text(all_dem_reviews)\n",
    "\n",
    "    #for word distribution, we need to clean all punctuations and symbols as well as standardize the case\n",
    "    def build_word_frequency(text,blacklist=[],stemmer=None):\n",
    "        assert type(text) == str, \"Expecting a str input\"\n",
    "        s = re.sub('[^a-z]+',' ',text.lower())\n",
    "        s = re.sub('[\\n\\r\\s]+',' ',s)\n",
    "        vocab = Counter()\n",
    "        for word in s.split(' '):\n",
    "            if word in blacklist:\n",
    "                continue\n",
    "            if stemmer!= None:\n",
    "                word = stemmer.stem(word)\n",
    "            vocab.update([word])  #preventing the counter object to update using each letter by using []\n",
    "        return vocab\n",
    "\n",
    "    review_vocab_bef_stem = build_word_frequency(all_dem_clean_reviews,blacklist=en_stopwords)\n",
    "    review_vocab_after_stem = build_word_frequency(all_dem_clean_reviews,blacklist=en_stopwords,stemmer = ps)\n",
    "\n",
    "    print(\"Before stemming, most 10 common words:\")\n",
    "    for x in review_vocab_bef_stem.most_common(10):\n",
    "        print('\\t',x[0].ljust(15,' '),x[1])  #justify the column abit\n",
    "\n",
    "    print('\\n\\n')\n",
    "\n",
    "    print(\"After stemming, most 10 common words:\")\n",
    "    for x in review_vocab_after_stem.most_common(10):\n",
    "        print('\\t',x[0].ljust(15,' '),x[1])\n",
    "    \n",
    "    #Plotting the word distribution\n",
    "    def plot_word_freq_dist(the_vocab):\n",
    "        fig = plt.figure()\n",
    "        ax = fig.add_subplot(1, 1, 1)\n",
    "\n",
    "        line = ax.plot(the_vocab.values())\n",
    "\n",
    "        ax.set_yscale('log')\n",
    "        plt.show()\n",
    "\n",
    "    plot_word_freq_dist(review_vocab_after_stem)\n",
    "        \n"
   ]
  },
  {
   "cell_type": "code",
   "execution_count": 9,
   "id": "7933cf87-f944-4c26-83d2-1a614499a18a",
   "metadata": {},
   "outputs": [
    {
     "name": "stdout",
     "output_type": "stream",
     "text": [
      "Before stemming, most 10 common words:\n",
      "\t food            124\n",
      "\t chicken         90\n",
      "\t dosa            76\n",
      "\t indian          74\n",
      "\t good            66\n",
      "\t service         59\n",
      "\t place           52\n",
      "\t like            47\n",
      "\t butter          40\n",
      "\t would           40\n",
      "\n",
      "\n",
      "\n",
      "After stemming, most 10 common words:\n",
      "\t food            126\n",
      "\t chicken         90\n",
      "\t dosa            86\n",
      "\t indian          75\n",
      "\t good            67\n",
      "\t place           66\n",
      "\t servic          59\n",
      "\t like            52\n",
      "\t order           51\n",
      "\t restaur         46\n"
     ]
    },
    {
     "data": {
      "image/png": "[encoded data removed]",
      "text/plain": [
       "<Figure size 432x288 with 1 Axes>"
      ]
     },
     "metadata": {
      "needs_background": "light"
     },
     "output_type": "display_data"
    }
   ],
   "source": [
    "analyze_business(chosen_business_1)"
   ]
  },
  {
   "cell_type": "code",
   "execution_count": 10,
   "id": "9efa1578-cde4-461b-ac24-ed4fb38d58b8",
   "metadata": {},
   "outputs": [
    {
     "name": "stdout",
     "output_type": "stream",
     "text": [
      "Before stemming, most 10 common words:\n",
      "\t food            84\n",
      "\t place           72\n",
      "\t good            67\n",
      "\t bar             52\n",
      "\t service         52\n",
      "\t get             45\n",
      "\t like            45\n",
      "\t great           40\n",
      "\t time            36\n",
      "\t go              36\n",
      "\n",
      "\n",
      "\n",
      "After stemming, most 10 common words:\n",
      "\t food            84\n",
      "\t place           76\n",
      "\t good            69\n",
      "\t order           59\n",
      "\t bar             56\n",
      "\t go              54\n",
      "\t drink           53\n",
      "\t servic          53\n",
      "\t get             52\n",
      "\t like            50\n"
     ]
    },
    {
     "data": {
      "image/png": "[encoded data removed]",
      "text/plain": [
       "<Figure size 432x288 with 1 Axes>"
      ]
     },
     "metadata": {
      "needs_background": "light"
     },
     "output_type": "display_data"
    }
   ],
   "source": [
    "analyze_business(chosen_business_2)"
   ]
  },
  {
   "cell_type": "markdown",
   "id": "f423f51a-ed3a-46d3-a21b-fc0d658c109a",
   "metadata": {},
   "source": [
    "## 3.2.2 POS Tagging\n",
    "\n",
    "```\n",
    " git blame manekiyong\n",
    "```\n",
    "TBD:\n",
    "* Compare with another Library?\n",
    "* Compare token.tag_ vs token.pos_ (fine-grained vs coarse grained)"
   ]
  },
  {
   "cell_type": "code",
   "execution_count": 10,
   "id": "ab1f3d92",
   "metadata": {},
   "outputs": [],
   "source": [
    "def analyze_pos(sampled_reviews):\n",
    "    for review in sampled_reviews:\n",
    "        cleaned_review = clean_text(review['text'])\n",
    "        print(cleaned_review)\n",
    "        tokenized_review = word_tokenize(cleaned_review)\n",
    "        print(nltk.pos_tag(tokenized_review)) #NLTK POS taggers uses tag from the Penn Tree Bank tagset. \n",
    "        print(\"\")\n",
    "        # To find another POS Tagging technique for comparison\n",
    "        \n",
    "def pos_spacy(sampled_reviews):\n",
    "    #sm F1 for POS 0.97, trf F1 for POS 0.98\n",
    "    pos_df = pd.DataFrame(columns=[\"token\", \"pos_1\", \"pos_2\", \"match\"])\n",
    "    for review in sampled_reviews:\n",
    "        doc_sm = nlp_sm(review['text'])\n",
    "        doc_trf = nlp_trf(review['text'])\n",
    "        for token_sm, token_trf in zip(doc_sm, doc_trf):\n",
    "            temp_dict = {\n",
    "                \"token\":str(token_sm),\n",
    "                \"pos_1\":token_sm.pos_,\n",
    "                \"pos_2\":token_trf.pos_,\n",
    "                \"match\":token_trf.pos_== token_sm.pos_\n",
    "            }\n",
    "            pos_df=pos_df.append(temp_dict, ignore_index=True)\n",
    "    return pos_df"
   ]
  },
  {
   "cell_type": "code",
   "execution_count": 11,
   "id": "e2aba090",
   "metadata": {},
   "outputs": [],
   "source": [
    "random_reviews = random.sample(big_json,5)\n",
    "# analyze_pos(random_reviews)\n",
    "df = pos_spacy(random_reviews)"
   ]
  },
  {
   "cell_type": "code",
   "execution_count": 12,
   "id": "93dbf5b7",
   "metadata": {},
   "outputs": [],
   "source": [
    "# tokenized_review = word_tokenize(random_reviews[0]['text'])\n",
    "# doc_trf = nlp_trf(random_reviews[0]['text'])\n",
    "# print(len(tokenized_review))\n",
    "# len(doc_trf)\n",
    "# for index, i in enumerate(doc_trf):\n",
    "#     print(i, tokenized_review[index])"
   ]
  },
  {
   "cell_type": "code",
   "execution_count": 13,
   "id": "7a4f8f24",
   "metadata": {},
   "outputs": [
    {
     "data": {
      "text/html": [
       "<div>\n",
       "<style scoped>\n",
       "    .dataframe tbody tr th:only-of-type {\n",
       "        vertical-align: middle;\n",
       "    }\n",
       "\n",
       "    .dataframe tbody tr th {\n",
       "        vertical-align: top;\n",
       "    }\n",
       "\n",
       "    .dataframe thead th {\n",
       "        text-align: right;\n",
       "    }\n",
       "</style>\n",
       "<table border=\"1\" class=\"dataframe\">\n",
       "  <thead>\n",
       "    <tr style=\"text-align: right;\">\n",
       "      <th></th>\n",
       "      <th>token</th>\n",
       "      <th>pos_1</th>\n",
       "      <th>pos_2</th>\n",
       "      <th>match</th>\n",
       "    </tr>\n",
       "  </thead>\n",
       "  <tbody>\n",
       "    <tr>\n",
       "      <th>0</th>\n",
       "      <td>This</td>\n",
       "      <td>DET</td>\n",
       "      <td>DET</td>\n",
       "      <td>True</td>\n",
       "    </tr>\n",
       "    <tr>\n",
       "      <th>1</th>\n",
       "      <td>is</td>\n",
       "      <td>AUX</td>\n",
       "      <td>AUX</td>\n",
       "      <td>True</td>\n",
       "    </tr>\n",
       "    <tr>\n",
       "      <th>2</th>\n",
       "      <td>a</td>\n",
       "      <td>DET</td>\n",
       "      <td>DET</td>\n",
       "      <td>True</td>\n",
       "    </tr>\n",
       "    <tr>\n",
       "      <th>3</th>\n",
       "      <td>chain</td>\n",
       "      <td>NOUN</td>\n",
       "      <td>NOUN</td>\n",
       "      <td>True</td>\n",
       "    </tr>\n",
       "    <tr>\n",
       "      <th>4</th>\n",
       "      <td>restaurant</td>\n",
       "      <td>NOUN</td>\n",
       "      <td>NOUN</td>\n",
       "      <td>True</td>\n",
       "    </tr>\n",
       "    <tr>\n",
       "      <th>...</th>\n",
       "      <td>...</td>\n",
       "      <td>...</td>\n",
       "      <td>...</td>\n",
       "      <td>...</td>\n",
       "    </tr>\n",
       "    <tr>\n",
       "      <th>432</th>\n",
       "      <td>good</td>\n",
       "      <td>ADJ</td>\n",
       "      <td>ADJ</td>\n",
       "      <td>True</td>\n",
       "    </tr>\n",
       "    <tr>\n",
       "      <th>433</th>\n",
       "      <td>location</td>\n",
       "      <td>NOUN</td>\n",
       "      <td>NOUN</td>\n",
       "      <td>True</td>\n",
       "    </tr>\n",
       "    <tr>\n",
       "      <th>434</th>\n",
       "      <td>and</td>\n",
       "      <td>CCONJ</td>\n",
       "      <td>CCONJ</td>\n",
       "      <td>True</td>\n",
       "    </tr>\n",
       "    <tr>\n",
       "      <th>435</th>\n",
       "      <td>ambience</td>\n",
       "      <td>NOUN</td>\n",
       "      <td>NOUN</td>\n",
       "      <td>True</td>\n",
       "    </tr>\n",
       "    <tr>\n",
       "      <th>436</th>\n",
       "      <td>.</td>\n",
       "      <td>PUNCT</td>\n",
       "      <td>PUNCT</td>\n",
       "      <td>True</td>\n",
       "    </tr>\n",
       "  </tbody>\n",
       "</table>\n",
       "<p>437 rows × 4 columns</p>\n",
       "</div>"
      ],
      "text/plain": [
       "          token  pos_1  pos_2 match\n",
       "0          This    DET    DET  True\n",
       "1            is    AUX    AUX  True\n",
       "2             a    DET    DET  True\n",
       "3         chain   NOUN   NOUN  True\n",
       "4    restaurant   NOUN   NOUN  True\n",
       "..          ...    ...    ...   ...\n",
       "432        good    ADJ    ADJ  True\n",
       "433    location   NOUN   NOUN  True\n",
       "434         and  CCONJ  CCONJ  True\n",
       "435    ambience   NOUN   NOUN  True\n",
       "436           .  PUNCT  PUNCT  True\n",
       "\n",
       "[437 rows x 4 columns]"
      ]
     },
     "execution_count": 13,
     "metadata": {},
     "output_type": "execute_result"
    }
   ],
   "source": [
    "df"
   ]
  },
  {
   "cell_type": "markdown",
   "id": "6922af46-6584-45b6-899f-fac25f87fd4f",
   "metadata": {},
   "source": [
    "## 3.2.3 Writing Styles\n",
    "\n",
    "Discussion points based on the formality of the way of writing, proper use of English sentence structure such as good grammar, proper pronouns, capitalization, and terms used in the posts.\n",
    "\n",
    "### Stack Overflow\n",
    "Stack Overflow has a relatively less formal way of writing. Informal words like \"Doesn't, I'm, I've...\" are more prevalent that its counterpart. In general, we could observe decent use of English and sentence structure. However, that could be better. In many posts, the start of their sentences and bullet points are not capitalised. Moreover, usage of some words are incorrect e.g. Conjunctions used in the post body \"So I can filter them out...\" or \"And now we see that using ...\". It is worth noting that there are technical terms and codes used in Stack Overflow that could be Out Of Vocabulary (OOV) words. For example, tree_.__getstate__() and graphviz' .dot file are used in the posts but the words are OOV. Therefore, tokenization need to be altered to account for unknown tokens (UNKs). Similarly, we should use a software-specific POS tagger to handle the text from Stack Overflow.\n",
    "\n",
    "\n",
    "### Hardware Zone\n",
    "Hardware Zone has two main components - news and forums. The news portion is similar to Channel NewsAsia as most of the news are retrieved from proper news websites, our group will be focusing on the forums. The forums are filled with informal way of writing. The users are mainly Singaporeans, which can explain the common use of Singlish, improper English and structure. On one of the posts - 'any reviews for their boxes? like streams always buffering??', we can observe the lack of capitalisation, use of broken English and exccessive use of punctuation. For another post, it utilised Singlish - 'Change to dark mode lor'. There is also frequent use of emojis or expressions in many posts. Hence, the terms used could be less complex in Hardware Zone as there is very little complex technical terms and unique words used as compared to Stack Overflow.\n",
    "\n",
    "### Channel NewsAsia\n",
    "Channel NewsAsia is a news platform. The journalists are proficient in English and there are many layers of vetting before a post is published. On that account, Channel NewsAsia has a formal way of writing, the most proper use of English sentence structure as compared to the other two counterparts. The posts have proper punctuations and sentence structures. Each sentence is gramatically correct, has capitalisation at the start and proper nouns are capitalised. There might be some unknown terms used such as 'Oxbotica' or 'AppliedEV' but with proper sentence structures, there is enough context to understand. Out of all 3  websites, it would be the easiest to apply tokenization and POS tagging directly to this news posts.\n",
    "\n",
    "Sources:\n",
    "Stack Overflow\n",
    "https://stackoverflow.com/questions/32506951/how-to-explore-a-decision-tree-built-using-scikit-learn\n",
    "https://stackoverflow.com/questions/3437059/does-python-have-a-string-contains-substring-method\n",
    "\n",
    "Hardware Zone\n",
    "https://forums.hardwarezone.com.sg/threads/new-forum-bugs-reporting-list.6488755/\n",
    "https://forums.hardwarezone.com.sg/threads/android-tv-box.5678618/\n",
    "\n",
    "Channel NewsAsia\n",
    "https://www.channelnewsasia.com/business/oxbotica-develop-multi-purpose-self-driving-vehicle-appliedev-2162676\n",
    "https://www.channelnewsasia.com/business/new-zealand-banks-post-office-hit-outages-apparent-cyber-attack-2162891"
   ]
  },
  {
   "cell_type": "markdown",
   "id": "c7efba8a-49b7-4f56-93c4-da55e4e816fd",
   "metadata": {},
   "source": [
    "## Most frequent ⟨ Noun - Adjective ⟩ pairs for each rating.\n",
    "\n",
    "```\n",
    "git blame sun aixin\n",
    "\n",
    "consider word cloud\n",
    "```\n",
    "\n",
    "Limitations: \n",
    "* Assuming i have a phrase: `Not a good thing | RB | DT | JJ | NN | ` , solely looking at ADJ NOUN here would discard the negation (Not)\n",
    "* Since we are only analyzing English text, some foreign cuisines may not be captured; for example, `dolsot bibimbap` would be seen as proper noun, but in actual fact, it is translated to `Hot stone pot bibimbap`\n",
    "\n",
    "Example sentences:\n",
    "* \"She was a beautiful, tall, thin, young, black-haired, Scottish woman.\"\n",
    "    * beautiful woman\n",
    "    * tall woman\n",
    "    * thin woman\n",
    "    * young woman\n",
    "    * black haired woman\n",
    "    * scottish woman\n",
    "* \"This is a very fat and orange cat\"\n",
    "    * fat cat\n",
    "    * orange cat\n",
    "* \"The food is bland, atrocious and cold\"\n",
    "    * bland food\n",
    "    * atrocious food\n",
    "    * cold food"
   ]
  },
  {
   "cell_type": "code",
   "execution_count": 9,
   "id": "6eeb6c2d",
   "metadata": {},
   "outputs": [],
   "source": [
    "# Restructure big_json to group by business & the stars\n",
    "business_dict = {}\n",
    "for i in big_json: \n",
    "    if business_dict.get(i['business_id'])==None:\n",
    "        business_dict[i['business_id']] = {}\n",
    "        business_dict[i['business_id']]['1'] = []\n",
    "        business_dict[i['business_id']]['2'] = []\n",
    "        business_dict[i['business_id']]['3'] = []\n",
    "        business_dict[i['business_id']]['4'] = []\n",
    "        business_dict[i['business_id']]['5'] = []\n",
    "    if i['stars']==1:\n",
    "        business_dict[i['business_id']]['1'].append(i)\n",
    "    elif i['stars'] == 2:\n",
    "        business_dict[i['business_id']]['2'].append(i)\n",
    "    elif i['stars'] ==3:\n",
    "        business_dict[i['business_id']]['3'].append(i)\n",
    "    elif i['stars'] == 4:\n",
    "        business_dict[i['business_id']]['4'].append(i)\n",
    "    else:\n",
    "        business_dict[i['business_id']]['5'].append(i)"
   ]
  },
  {
   "cell_type": "code",
   "execution_count": 15,
   "id": "01363ad9",
   "metadata": {
    "scrolled": true
   },
   "outputs": [],
   "source": [
    "def generate_phrase_dict(review_list):\n",
    "    phrase_dict = {}\n",
    "    adj_list = ['JJ', 'JJR', 'JJS'] #JJ: Adjective; JJR: comparative adjective; JJS: superlative adjective\n",
    "    noun_list = ['NN', 'NNS', 'NNP', 'NNPS'] #NN: Singular Noun; #NNS: Plural Noun; #NNP: Singular Proper Noun, #NNPS: Plural Proper Noun\n",
    "    for review in review_list:\n",
    "        doc = nlp_trf(review['text'])\n",
    "        for phrase in doc.noun_chunks:\n",
    "            start = -1\n",
    "            fin = -1\n",
    "            print(phrase, end=\" | \")\n",
    "            for index, i in enumerate(phrase):\n",
    "                print(i.tag_, end=\" | \")\n",
    "                if i.tag_ in adj_list and start == -1:\n",
    "\n",
    "                    start = index\n",
    "            for index, i in enumerate(reversed(phrase)):\n",
    "                if i.tag_ in noun_list and fin == -1:\n",
    "                    fin = len(phrase)-index\n",
    "                    break\n",
    "            print(\"\")\n",
    "            if start==-1 or fin==-1:\n",
    "                print(\"No adj-noun found\")\n",
    "            else:\n",
    "                print(\"Phrase:\", phrase[start:fin])\n",
    "                sub_phrase = str(phrase[start:fin]).lower()\n",
    "                if sub_phrase in phrase_dict:\n",
    "                    phrase_dict[sub_phrase] = phrase_dict[sub_phrase]+1\n",
    "                else:\n",
    "                    phrase_dict[sub_phrase]=1\n",
    "            print(\"\")     \n",
    "    return phrase_dict"
   ]
  },
  {
   "cell_type": "code",
   "execution_count": 43,
   "id": "7c8e6da4",
   "metadata": {},
   "outputs": [],
   "source": [
    "def generate_phrase_dict_tree(review_list):\n",
    "    phrase_dict = {}\n",
    "    for review in review_list:\n",
    "        doc = nlp_trf(review['text'])\n",
    "        parsed_list = [0]*len(doc) # A list used to tracked which tokens have been parsed before.\n",
    "        for token in doc:\n",
    "            if parsed_list[token.i] == 1: # If token has been parsed before, skip this token to prevent double parsing\n",
    "                continue\n",
    "            phrase=\"\"\n",
    "            \n",
    "            # Capture straightforward adjective-nouns\n",
    "            if token.pos_ == 'ADJ':\n",
    "                cur_tok = token\n",
    "                # For chained adjectives\n",
    "                # e.g. Black-haired lady\n",
    "                while cur_tok.dep_ == 'amod' and cur_tok.head.pos_ == 'ADJ': \n",
    "                    parsed_list[cur_tok.i] = 1\n",
    "                    phrase=phrase+\" \"+cur_tok.text\n",
    "                    cur_tok=cur_tok.head\n",
    "                # Get the noun after finding the necessary adjectives\n",
    "                if cur_tok.dep_ == 'amod' and cur_tok.head.pos_ == 'NOUN':\n",
    "                    parsed_list[cur_tok.i] = 1\n",
    "                    phrase = phrase+\" \"+cur_tok.text+\" \"+cur_tok.head.text\n",
    "                if phrase == '':\n",
    "                    continue\n",
    "                phrase=phrase.lower()\n",
    "                phrase = phrase[1:] # rid whitespace infront\n",
    "                if phrase in phrase_dict:\n",
    "                    phrase_dict[phrase] = phrase_dict[phrase]+1\n",
    "                else:\n",
    "                    phrase_dict[phrase]=1\n",
    "            # Capture adjective-nouns separated by AUX, e.g. The Cat is Fat -> fat cat\n",
    "            if token.pos_ == 'AUX':\n",
    "                phrase_list = []\n",
    "                # Search for NOUN/ADJ related to this AUX\n",
    "                aux_child = [child for child in token.children]\n",
    "                this_noun=\"\"\n",
    "                this_adj=\"\"\n",
    "                for child in aux_child:\n",
    "                    if child.pos_ == 'NOUN':\n",
    "                        this_noun = child\n",
    "                    if child.pos_ == 'ADJ':\n",
    "                        this_adj = child\n",
    "                # If no adj-noun pair is found, terminate\n",
    "                if str(this_noun)==\"\" or str(this_adj)==\"\":\n",
    "                    continue\n",
    "                phrase_list.append(this_adj.text+\" \"+this_noun.text)\n",
    "                parsed_list[this_adj.i] = 1\n",
    "                parsed_list[this_noun.i] = 1\n",
    "                adj_child = [child for child in this_adj.children]\n",
    "                child_pos = [child.pos_ for child in adj_child]\n",
    "                # Traverse adjective's child to see if any other adjective is conjunction with this adjective\n",
    "                # e.g. Fat and Orange cat -> fat cat, orange cat \n",
    "                # Recursion not required because there should only be at most 1 ADJ among the children\n",
    "                while len(adj_child) != 0 and 'ADJ' in child_pos:\n",
    "                    for child in adj_child:\n",
    "                        if child.pos_ == 'ADJ':\n",
    "                            phrase_list.append(child.text+\" \"+this_noun.text)\n",
    "                            parsed_list[child.i] = 1\n",
    "                            adj_child = [grandchild for grandchild in child.children]\n",
    "                            child_pos = [grandchild.pos_ for grandchild in adj_child]\n",
    "\n",
    "                for phrase in phrase_list:\n",
    "#                     if phrase == '':\n",
    "#                         print(\"R2\", token.i, token.text,'|\\t', token.pos_, token.dep_,'|', token.head.text,'|', token.head.pos_,'|',\n",
    "#                     [child for child in token.children])\n",
    "                    phrase=phrase.lower()\n",
    "                    if phrase in phrase_dict:\n",
    "                        phrase_dict[phrase] = phrase_dict[phrase]+1\n",
    "                    else:\n",
    "                        phrase_dict[phrase]=1\n",
    "\n",
    "            \n",
    "    return phrase_dict\n",
    "\n",
    "def get_random_reviews(dict_by_biz, stars, num):\n",
    "    selected = []\n",
    "    review_list = []\n",
    "    count = 0\n",
    "    while count != num:\n",
    "        sampled_biz = random.sample(sorted(dict_by_biz),num-count)\n",
    "        for i in sampled_biz:\n",
    "            if len(dict_by_biz[i][str(stars)]) == 0: # If no specific rating found for particular business, skip\n",
    "                continue\n",
    "            if i in selected: # If a review from a particular business have been extracted before\n",
    "                continue\n",
    "            count+=1\n",
    "            selected.append(i)\n",
    "            random_review = random.sample(dict_by_biz[i][str(stars)],1)[0]\n",
    "            review_list.append(random_review)\n",
    "    return review_list"
   ]
  },
  {
   "cell_type": "code",
   "execution_count": 17,
   "id": "4376d8c5",
   "metadata": {},
   "outputs": [],
   "source": [
    "# Populate individual list by stars\n",
    "stars_1 = get_random_reviews(business_dict,1, 50)\n",
    "stars_2 = get_random_reviews(business_dict,2, 20)\n",
    "stars_3 = get_random_reviews(business_dict,3, 20)\n",
    "stars_4 = get_random_reviews(business_dict,4, 20)\n",
    "stars_5 = get_random_reviews(business_dict,5, 20)\n"
   ]
  },
  {
   "cell_type": "code",
   "execution_count": null,
   "id": "8f444aeb",
   "metadata": {
    "scrolled": true
   },
   "outputs": [],
   "source": [
    "stars_1_pt = generate_phrase_dict_tree(stars_1)\n",
    "stars_2_pt = generate_phrase_dict_tree(stars_2)\n",
    "stars_3_pt = generate_phrase_dict_tree(stars_3)\n",
    "stars_4_pt = generate_phrase_dict_tree(stars_4)\n",
    "stars_5_pt = generate_phrase_dict_tree(stars_5)"
   ]
  },
  {
   "cell_type": "code",
   "execution_count": 99,
   "id": "1af8ec31",
   "metadata": {},
   "outputs": [
    {
     "name": "stdout",
     "output_type": "stream",
     "text": [
      "1 Star\n",
      "[('new heater', 3), ('first time', 3), ('french toast', 3), ('terrible service', 2), ('first experience', 2), ('real bbq', 2), ('many options', 2), ('same thing', 2), ('worst wings', 2), ('huge disappointment', 2)]\n",
      "2 Star\n",
      "[('few things', 2), ('only reason', 2), ('other locations', 2), ('off night', 2), ('second chance', 2), ('buttery crust', 2), ('front desk', 2), ('chinese food', 2), ('unpleasant things', 1), ('other waitresses', 1)]\n",
      "3 Star\n",
      "[('puffy crust', 2), ('most shops', 2), ('average food', 2), ('last time', 2), ('bad gauntlet', 1), ('own name', 1), ('specific name', 1), ('generic name', 1), ('italian mobster', 1), ('last name', 1)]\n",
      "4 Star\n",
      "[('first time', 4), ('next time', 2), ('great cocktails', 2), ('good food', 2), ('great food', 2), ('outdated time', 1), ('tasty', 1), ('few toppings', 1), ('half way', 1), ('plain chips', 1)]\n",
      "5 Star\n",
      "[('good flavor', 2), ('black olives', 2), ('great selection', 2), ('hawaiian food', 2), ('great entrays', 1), ('consistent wings', 1), ('many dishes', 1), ('fresh salad', 1), ('delicious salad', 1), ('first place', 1)]\n"
     ]
    }
   ],
   "source": [
    "print(\"1 Star\")\n",
    "sorted_dict = {k: v for k, v in sorted(stars_1_pt.items(), key=lambda item: item[1], reverse=True)}.items()\n",
    "print(list(sorted_dict)[:10])\n",
    "print(\"2 Star\")\n",
    "sorted_dict = {k: v for k, v in sorted(stars_2_pt.items(), key=lambda item: item[1], reverse=True)}.items()\n",
    "print(list(sorted_dict)[:10])\n",
    "print(\"3 Star\")\n",
    "sorted_dict = {k: v for k, v in sorted(stars_3_pt.items(), key=lambda item: item[1], reverse=True)}.items()\n",
    "print(list(sorted_dict)[:10])\n",
    "print(\"4 Star\")\n",
    "sorted_dict = {k: v for k, v in sorted(stars_4_pt.items(), key=lambda item: item[1], reverse=True)}.items()\n",
    "print(list(sorted_dict)[:10])\n",
    "print(\"5 Star\")\n",
    "sorted_dict = {k: v for k, v in sorted(stars_5_pt.items(), key=lambda item: item[1], reverse=True)}.items()\n",
    "print(list(sorted_dict)[:10])"
   ]
  },
  {
   "cell_type": "code",
   "execution_count": null,
   "id": "d6ff1c90",
   "metadata": {},
   "outputs": [],
   "source": [
    "# Show dependency graph\n",
    "doc = nlp_trf(\"this is a very fat and orange cat\")\n",
    "for token in doc:\n",
    "    print(token.text,'|',token.dep_,'|', token.head.text,'|', token.head.pos_,'|',\n",
    "            [child for child in token.children])\n",
    "spacy.displacy.render(doc, style='dep')"
   ]
  },
  {
   "cell_type": "code",
   "execution_count": 193,
   "id": "06f49035",
   "metadata": {},
   "outputs": [
    {
     "data": {
      "text/plain": [
       "'adjectival modifier'"
      ]
     },
     "execution_count": 193,
     "metadata": {},
     "output_type": "execute_result"
    }
   ],
   "source": [
    "spacy.explain(\"amod\")"
   ]
  },
  {
   "cell_type": "markdown",
   "id": "ba7b2607-2b87-43f0-871c-62266770969f",
   "metadata": {},
   "source": [
    "## 3.3 Indicative Adjective Phrases \n",
    "\n",
    "gonna need:\n",
    "* Adjective pair extractor\n",
    "* tf-idf "
   ]
  },
  {
   "cell_type": "code",
   "execution_count": null,
   "id": "8acf9c84",
   "metadata": {
    "scrolled": true
   },
   "outputs": [],
   "source": [
    "business_dict"
   ]
  },
  {
   "cell_type": "code",
   "execution_count": 44,
   "id": "888248bb",
   "metadata": {
    "scrolled": true
   },
   "outputs": [
    {
     "name": "stdout",
     "output_type": "stream",
     "text": [
      "0 ZBE-H_aUlicix_9vUGQPIQ\n",
      "1 e-YnECeZNt8ngm0tu4X9mQ\n",
      "2 j7HO1YeMQGYo3KibMXZ5vg\n",
      "3 7e3PZzUpG5FYOTGt3O3ePA\n",
      "4 vuHzLZ7nAeT-EiecOkS5Og\n",
      "5 k99YNCx5KcQPR7oeTgAOzg\n",
      "6 hXzoNgpkC86K_Jfg_zMHvA\n",
      "7 wPgp3oddFUzpGrQc__HYhg\n",
      "8 QeEQXdto_4wFRaNKyIygRA\n",
      "9 a4GRh1TlOVhPD401mSPLZg\n",
      "10 4tjKsIaBXCDUP9PL82Vu_A\n",
      "11 pYJtM8BaRUwNg3hkO3v2sQ\n",
      "12 793LPDn8axywoOANbDeAZw\n",
      "13 --I7YYLada0tSLkORTHb5Q\n",
      "14 caq9CTtWB-8K0tdFUhTfAQ\n",
      "15 z8Em-bhZI3Mmspml7tj6tg\n",
      "16 l07ctcrDMV--TYwe3uzebQ\n",
      "17 pJnN5PxqFPGZW2pJWkQtzA\n",
      "18 CQxhyLM833WF45yrS9yeAA\n",
      "19 bmm5F5smQrHCEkFYjwrQ9w\n",
      "20 w5LUtmw4G1KD7qAntqGd9w\n",
      "21 AEx2SYEUJmTxVVB18LlCwA\n",
      "22 dcrL22ant20s1thjdVGhLw\n",
      "23 rubyBEGXLBLU_JAuEtKEuw\n",
      "24 NV5Q8ZhDSh_oI8ZOnn72Lw\n",
      "25 p6FPcgLymnpk_gAyQuW_Mw\n",
      "26 sWh-N7K3ebRHZKhhH01mJQ\n",
      "27 paCgjLEUEVM38VZ6Sjghgg\n",
      "28 oICXzFAaUMrYGzjRWmkw4Q\n",
      "29 vxuyl9IVum8zngXgvbT4Jg\n",
      "30 Mx8jCUdhaNbMgx_04DWHdA\n",
      "31 IUMyUYOIR9UQ7XGIEQKOuA\n",
      "32 kAmNIcJpAZIZIp5uSMAYLA\n",
      "33 NRAmrbIGgXgH5uYv8GGJ5A\n",
      "34 mOzOYgXYOmkdNfZr453PgQ\n",
      "35 KjjNv4YFzBFnsBh2ncH1Iw\n",
      "36 84DjKzaR26vphu9fNI9nKg\n",
      "37 c1_adyjYG6JEa1PZAXMOBg\n",
      "38 rv9T1qGHbh9eXqFpKEPy_A\n",
      "39 NdpvGGF4cLrdnA6ydSZz3g\n",
      "40 yAkaDc6MWX3dy8bnEcCrRQ\n",
      "41 Rii85bzYKGC9P0zOyAem6A\n",
      "42 TbkyrVi1b90cZS-rUtnvHA\n",
      "43 xVpE01l6ZXdEtVf5PkRpDg\n",
      "44 spDZkD6cp0JUUm6ghIWHzA\n",
      "45 S6apFS5ghsQg69rcBvm2Qg\n",
      "46 1Fpk8ibHhZYnCw8fnGny8w\n",
      "47 R4EhR8xhONLFqqI6ZnzNWw\n",
      "48 grvkjaJB9aorAMIjGD6XSg\n",
      "49 JqBtQ1bSynPHE9gbyuSSvA\n",
      "50 XuZ9pksVQBIpmVQm6UO2YQ\n",
      "51 DcfkRb2bS2c8z21WH-aS6A\n",
      "52 aDHD7nASfqiQBB6YXy2aGA\n",
      "53 ih_bb1SaYvsMYfdykhYh2g\n",
      "54 NnxwkiBvSSyKeFiez0DDcQ\n",
      "55 c0t81YxNqZQuTJrTfn3QYA\n",
      "56 yHHVKa9joZAKiBDUp2SkKw\n",
      "57 rZrhB-arwsFOLFVXzKvB6A\n",
      "58 VWb8gk_DKUCDKw3Xsdq8Jg\n",
      "59 GwKq3kjkFXhbBMAwe4H3rg\n",
      "60 x3LoVFuzVIPK_J-kDZORdg\n",
      "61 cOY6ipigtTXdcmmmiFiniA\n",
      "62 IT8amJTTW64XAre4ilKcjg\n",
      "63 QbdADbSI908Or0ybjuQLxw\n",
      "64 YgWGWza3sXzI0brcOogR5A\n",
      "65 JiNtFt02pLvjXkqxZL737Q\n",
      "66 SYExIal3fh3mS3kpoP9Ixg\n",
      "67 KY2vtER_NgmonFNY_XFDpg\n",
      "68 UDiMCb4LKowlozI5mhtO_A\n",
      "69 sj9osyqLyOy7b_kDZb1txA\n",
      "70 Jol7cXrDmKKmu_V6qp4wMA\n",
      "71 R4R7ttLXfKKWM0VEMoaW4w\n",
      "72 AT5NZHqoLeP4rhWMM2OWBA\n",
      "73 daqYMX3Y4QR8xl-BUlYBPw\n",
      "74 IeK0nzbMPbWnUBIPB83v6A\n",
      "75 mF2EW3twSrFPmT_RVV1-Qg\n",
      "76 XVDR44P_74FmA0ANanm4CQ\n",
      "77 y5fwt6pAKnvYOSn-xOUepA\n",
      "78 I6MRD0JkDDa74TbVOJ1ykw\n",
      "79 LScYNYAA78iQL6pWOqt-WQ\n",
      "80 3kUqNxO1rkDDb89GAfyNgw\n",
      "81 xJ_L2sJN1zk3VDpZELrV_Q\n",
      "82 8Z72HW5ydzQFydUxZglurg\n",
      "83 Cr066pnTj0ioEMZRTHgMOw\n",
      "84 0kPm1zEpeXFRg8D2phqgCQ\n",
      "85 lOgybcjtSymXvJWvSZk1vw\n",
      "86 2xrpo-LXV9uGIwpvy0dwUw\n",
      "87 Gr_TkW3iFdgahixONGBsww\n",
      "88 dhBAQJLKPCI7nm3x0WjXTw\n",
      "89 XGaa9NDCwOJ9v0Cj55p28w\n",
      "90 WO3L0pmtAO8ozspmaVdHIg\n",
      "91 TrwniH-1-Jo_MNNDW2zMkA\n",
      "92 dOgvND5x_MKMBkqI3GvZXA\n",
      "93 mZEj6ggkh2l2QlbCJACaYw\n",
      "94 GUsYtGG557XKlHaMH87erg\n",
      "95 i-2OzvZUDtvKCMq1vcRSZg\n",
      "96 OjnRf8yDGEBCoUDdchSViw\n",
      "97 7vvliv5R0MD7BQ2CsquhcQ\n",
      "98 a6mYyhGgxWhnhrGDHzOTPA\n",
      "99 ZP7U4qUCMjIvasWV7a_mgg\n",
      "100 QxRKQ_Lzu4lMOejwVgcdAg\n",
      "101 PyMcV7WSYVqg1_S29G109g\n",
      "102 x_4gEfC25uiX21NyYdohgQ\n",
      "103 2ALnrUa1_U8JHNgscad8OQ\n",
      "104 AktuBx1W7c3ZdzwuaOp8xg\n",
      "105 4no7JcP4CYasqxdxmrTGRA\n",
      "106 rN3gHTjqx5sOnoUpJ-6jyg\n",
      "107 0Rni7ocMC_Lg2UH0lDeKMQ\n",
      "108 ZhACHVw9k438Z3i-Gw9BHA\n",
      "109 ukAUNyzUcBA4Su8UKjaJKg\n",
      "110 Ai-GviVpPlti74NtM8y9QQ\n",
      "111 suJ-eo5Gkvcg0iXVQw4RyA\n",
      "112 yEZn1XpLsEC9uBa-X4xAZw\n",
      "113 JTo0oS3iiMl6UPWA6aI8SQ\n",
      "114 tD7_aIUTlfzyMoMkXXwiZA\n",
      "115 z_RTK0MaxaRHRQ99hDL2QA\n",
      "116 iK_3WktnHa_YlbWdA0Axkw\n",
      "117 eUVH2Vs_sHApAKSV4iT2FQ\n",
      "118 eWmARaQb_9vxq-zy5PVvXA\n",
      "119 -7XWJYkutqhIxLen7Grg1g\n",
      "120 RyaCGkXRXxXNeJhbnioz1Q\n",
      "121 xvjkhS2PXajDniDzP1-hdA\n",
      "122 nN1MXnHFzZh9snkMmdhYrg\n",
      "123 uhyDNWYRSsom3VrFgOgP_w\n",
      "124 Jcyu0ml7rxizEA8giSH-8A\n",
      "125 IzcL0KZPKqMbjoIaCmClog\n",
      "126 6RbCJLiwNYwS6ab9vzD_zg\n",
      "127 WA7sC64kCRstywm2EgZXEw\n",
      "128 QqGMtc24VdCzYAajw1g4bA\n",
      "129 XA_m9daZl2VFDA6alnkBvg\n",
      "130 d8Kz48UDfZ0MPuQpGy2r0Q\n",
      "131 QaFO4S6HFUu2NIbeu4OwCg\n",
      "132 AT-og6IROn0hJt-HR5Njlw\n",
      "133 ApeTrSttf8f4KUrBVtcKgw\n",
      "134 etzDsNjkCyQBoJcU2a3U-g\n",
      "135 IBYExgJ6jURNJOk_5uSrKg\n",
      "136 vMpJzMFst_9GP4boeqWIRg\n",
      "137 9Xm2GfG8Rnbb1_CmXyrm3g\n",
      "138 s7keQ0-OQ5Li_IKGKVTarw\n",
      "139 wea6RrHSIheIjU_kUJVa4Q\n",
      "140 IB_aESRBh2cmYWSF6Fv0jQ\n",
      "141 oLb3-eXUFtCFJl2DuBhcvA\n",
      "142 shIPnFoXrL3dFo5HLH1_HA\n",
      "143 y3otpml08iLWdX5RCrWnbA\n",
      "144 CSGJxWQwD_QfOKxp569grQ\n",
      "145 UuO28w986H0CO_HJluQmew\n",
      "146 mSqR24h_nKXyMhwtWSih3Q\n",
      "147 zPEYgVqJ2QNKi45FJi2jvg\n",
      "148 hM48axj9twnf7A6a5f8cjA\n",
      "149 zZ7KDK3GAkBUZzsaqB1A4Q\n",
      "150 R43QH4FqHOOJapm5TaCEVg\n",
      "151 qMyYY8zpHusOXUd6wmqX2w\n",
      "152 cPzIic1AqH1ApTVVaww5hw\n"
     ]
    }
   ],
   "source": [
    "# Generate all business phrases\n",
    "biz_phrases = {}\n",
    "for index, i in enumerate(business_dict):\n",
    "    print(index, i)\n",
    "    biz_review = []\n",
    "    for j in range(1,6):\n",
    "        biz_review.extend(business_dict[i][str(j)])\n",
    "    biz_phrases[i] = generate_phrase_dict_tree(biz_review)"
   ]
  },
  {
   "cell_type": "code",
   "execution_count": 45,
   "id": "bfc241c2",
   "metadata": {},
   "outputs": [],
   "source": [
    "\n",
    "with open('business_phrase.json', 'w') as fp:\n",
    "    json.dump(biz_phrases, fp)"
   ]
  },
  {
   "cell_type": "code",
   "execution_count": 51,
   "id": "6c9908c4",
   "metadata": {},
   "outputs": [],
   "source": [
    "unique_phrase = []\n",
    "for i in biz_phrases:\n",
    "    for j in biz_phrases[i]:\n",
    "        unique_phrase.append(j)"
   ]
  },
  {
   "cell_type": "code",
   "execution_count": 53,
   "id": "29aabc06",
   "metadata": {},
   "outputs": [],
   "source": [
    "unique_phrase = list(set(unique_phrase))"
   ]
  },
  {
   "cell_type": "code",
   "execution_count": 54,
   "id": "bc36eb91",
   "metadata": {},
   "outputs": [
    {
     "data": {
      "text/plain": [
       "41806"
      ]
     },
     "execution_count": 54,
     "metadata": {},
     "output_type": "execute_result"
    }
   ],
   "source": [
    "len(unique_phrase)"
   ]
  },
  {
   "cell_type": "code",
   "execution_count": null,
   "id": "3ed87b42",
   "metadata": {},
   "outputs": [],
   "source": []
  }
 ],
 "metadata": {
  "kernelspec": {
   "display_name": "Python 3 (ipykernel)",
   "language": "python",
   "name": "python3"
  },
  "language_info": {
   "codemirror_mode": {
    "name": "ipython",
    "version": 3
   },
   "file_extension": ".py",
   "mimetype": "text/x-python",
   "name": "python",
   "nbconvert_exporter": "python",
   "pygments_lexer": "ipython3",
   "version": "3.9.6"
  }
 },
 "nbformat": 4,
 "nbformat_minor": 5
}
