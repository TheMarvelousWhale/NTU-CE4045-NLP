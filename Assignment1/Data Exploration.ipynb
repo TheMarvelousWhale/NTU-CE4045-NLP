{
 "cells": [
  {
   "cell_type": "code",
   "execution_count": 2,
   "id": "5e611cfb-3341-4510-8846-21773484dfd9",
   "metadata": {},
   "outputs": [],
   "source": [
    "import requests\n",
    "from bs4 import BeautifulSoup\n",
    "\n",
    "from nltk.tokenize import sent_tokenize, word_tokenize\n",
    "from nltk.stem import PorterStemmer, WordNetLemmatizer\n",
    "from nltk.corpus import stopwords\n",
    "\n",
    "from collections import Counter\n",
    "import json,re,random\n",
    "import matplotlib.pyplot as plt\n",
    "\n",
    "#preparing the tools\n",
    "\n",
    "\n",
    "ps = PorterStemmer()\n",
    "lz = WordNetLemmatizer()\n",
    "en_stopwords = stopwords.words('english')\n"
   ]
  },
  {
   "cell_type": "code",
   "execution_count": 3,
   "id": "db579179-4f5a-48d2-b6b9-a44cd53e9d2f",
   "metadata": {},
   "outputs": [
    {
     "name": "stdout",
     "output_type": "stream",
     "text": [
      "Processed 20 lines of data\n",
      "\n",
      "\n",
      "Sample data\n",
      "{\n",
      "    \"business_id\": \"EgwGTDZ705TwudPJwAY0yQ\",\n",
      "    \"cool\": 0,\n",
      "    \"date\": \"2011-01-09 00:07:16\",\n",
      "    \"funny\": 0,\n",
      "    \"review_id\": \"W6VRRz7mVGZLsidyHelHwg\",\n",
      "    \"stars\": 5.0,\n",
      "    \"text\": \"This place is quite possibly my favorite restaurant in Phoenix. \\n\\nMy favorites are the Chicken Scarpariello, the pizza and the Sangria. My wife can't decide between four dishes. Our daughter loves the Penne ala Vodka, Lasagna, or Ravioli.\\n\\nMario and his sons work hard to please and we've never had a bad meal here. I've seen them bend over backwards to try and take care of obvious jerks. \\n\\nPlus to top it off, when local school invited local pizza places to present to a class on making pizza and recycling issues, Mario came and talked to the kids as if they were adults. All the other places treated it as a marketing event and brought coupons. \\n\\nGet the idea? It's all good at this neighborhood gem!\",\n",
      "    \"useful\": 2,\n",
      "    \"user_id\": \"To4ATBBNlnC5gzj0dwXfuA\"\n",
      "}\n"
     ]
    }
   ],
   "source": [
    "sample_file = './reviewSamples20.json'\n",
    "\n",
    "#data importing and formating\n",
    "def process_raw_data(data_in_weird_format_file):\n",
    "    with open(data_in_weird_format_file,'r') as f:\n",
    "        raw_data = f.read()\n",
    "    data = raw_data.split('}\\n')\n",
    "    return [x+'}' for x in data if x != '']\n",
    "data = process_raw_data(sample_file)\n",
    "print(f'Processed {len(data)} lines of data')\n",
    "\n",
    "_sample_data = json.loads(random.choice(data))\n",
    "print('\\n\\nSample data')\n",
    "print(json.dumps(_sample_data, indent=4, sort_keys=True))"
   ]
  },
  {
   "cell_type": "code",
   "execution_count": 4,
   "id": "c5e0e060-bf51-48a9-8d05-070300d10365",
   "metadata": {},
   "outputs": [
    {
     "name": "stdout",
     "output_type": "stream",
     "text": [
      "0\tdict_keys(['review_id', 'user_id', 'business_id', 'stars', 'useful', 'funny', 'cool', 'text', 'date'])\n",
      "1\tdict_keys(['review_id', 'user_id', 'business_id', 'stars', 'useful', 'funny', 'cool', 'text', 'date'])\n",
      "2\tdict_keys(['review_id', 'user_id', 'business_id', 'stars', 'useful', 'funny', 'cool', 'text', 'date'])\n",
      "3\tdict_keys(['review_id', 'user_id', 'business_id', 'stars', 'useful', 'funny', 'cool', 'text', 'date'])\n",
      "4\tdict_keys(['review_id', 'user_id', 'business_id', 'stars', 'useful', 'funny', 'cool', 'text', 'date'])\n",
      "5\tdict_keys(['review_id', 'user_id', 'business_id', 'stars', 'useful', 'funny', 'cool', 'text', 'date'])\n",
      "6\tdict_keys(['review_id', 'user_id', 'business_id', 'stars', 'useful', 'funny', 'cool', 'text', 'date'])\n",
      "7\tdict_keys(['review_id', 'user_id', 'business_id', 'stars', 'useful', 'funny', 'cool', 'text', 'date'])\n",
      "8\tdict_keys(['review_id', 'user_id', 'business_id', 'stars', 'useful', 'funny', 'cool', 'text', 'date'])\n",
      "9\tdict_keys(['review_id', 'user_id', 'business_id', 'stars', 'useful', 'funny', 'cool', 'text', 'date'])\n",
      "10\tdict_keys(['review_id', 'user_id', 'business_id', 'stars', 'useful', 'funny', 'cool', 'text', 'date'])\n",
      "11\tdict_keys(['review_id', 'user_id', 'business_id', 'stars', 'useful', 'funny', 'cool', 'text', 'date'])\n",
      "12\tdict_keys(['review_id', 'user_id', 'business_id', 'stars', 'useful', 'funny', 'cool', 'text', 'date'])\n",
      "13\tdict_keys(['review_id', 'user_id', 'business_id', 'stars', 'useful', 'funny', 'cool', 'text', 'date'])\n",
      "14\tdict_keys(['review_id', 'user_id', 'business_id', 'stars', 'useful', 'funny', 'cool', 'text', 'date'])\n",
      "15\tdict_keys(['review_id', 'user_id', 'business_id', 'stars', 'useful', 'funny', 'cool', 'text', 'date'])\n",
      "16\tdict_keys(['review_id', 'user_id', 'business_id', 'stars', 'useful', 'funny', 'cool', 'text', 'date'])\n",
      "17\tdict_keys(['review_id', 'user_id', 'business_id', 'stars', 'useful', 'funny', 'cool', 'text', 'date'])\n",
      "18\tdict_keys(['review_id', 'user_id', 'business_id', 'stars', 'useful', 'funny', 'cool', 'text', 'date'])\n",
      "19\tdict_keys(['review_id', 'user_id', 'business_id', 'stars', 'useful', 'funny', 'cool', 'text', 'date'])\n"
     ]
    }
   ],
   "source": [
    "#Check if they have the same keys\n",
    "json_list = [json.loads(x) for x in data]\n",
    "for i,_json in enumerate(json_list):\n",
    "    print(f\"{i}\\t{_json.keys()}\")"
   ]
  },
  {
   "cell_type": "code",
   "execution_count": 5,
   "id": "1a6a4499-d1df-4c5b-b902-89cb182b7a3b",
   "metadata": {},
   "outputs": [],
   "source": [
    "big_data_file = './reviewSelected100.json'\n",
    "\n",
    "big_data = process_raw_data(big_data_file)\n",
    "\n",
    "big_json = [json.loads(x) for x in big_data]\n",
    "\n",
    "#Collecting all unique the business id\n",
    "business_id_list = list({x['business_id'] for x in big_json})  #make it a set via set comprehension {}, then call tolist\n",
    "\n",
    "#Selecting a random business and their review\n",
    "chosen_id_1 = random.choice(business_id_list)\n",
    "chosen_business_1 = [x for x in big_json if x['business_id'] == chosen_id_1]\n",
    "\n",
    "chosen_id_2 = chosen_id_1\n",
    "while chosen_id_2 == chosen_id_1:\n",
    "    chosen_id_2 = random.choice(business_id_list)\n",
    "chosen_business_2 = [x for x in big_json if x['business_id'] == chosen_id_2]\n",
    "#Because we have to repeat the whole thing for 2 businesses, we need to wrap the functions into a single wrapper for reuse\n"
   ]
  },
  {
   "cell_type": "code",
   "execution_count": 14,
   "id": "88a8ed40-3486-45a6-9648-b679be402068",
   "metadata": {},
   "outputs": [
    {
     "name": "stdout",
     "output_type": "stream",
     "text": [
      "{'useful': Counter({0: 8238, 1: 3265, 2: 1552, 3: 805, 4: 442, 5: 280, 6: 164, 7: 122, 8: 76, 9: 67, 10: 51, 11: 50, 12: 32, 13: 29, 14: 21, 15: 18, 16: 10, 20: 9, 19: 7, 22: 7, 23: 6, 24: 6, 18: 6, 17: 5, 21: 5, 25: 4, 30: 4, 28: 2, 34: 2, 31: 2, 27: 1, 40: 1, 65: 1, 35: 1, 46: 1, 41: 1, 48: 1, 36: 1, 85: 1, 191: 1, 43: 1, 59: 1, 64: 1})}\n",
      "\n",
      "{'stars': Counter({5.0: 6159, 4.0: 3559, 1.0: 2306, 3.0: 1904, 2.0: 1372})}\n",
      "\n",
      "{'funny': Counter({0: 12268, 1: 1862, 2: 563, 3: 231, 4: 107, 5: 81, 6: 61, 7: 31, 9: 21, 8: 17, 10: 10, 11: 9, 13: 6, 19: 4, 12: 4, 25: 3, 15: 3, 17: 2, 16: 2, 35: 2, 20: 2, 40: 2, 28: 2, 33: 1, 18: 1, 14: 1, 122: 1, 38: 1, 56: 1, 43: 1})}\n",
      "\n",
      "{'cool': Counter({0: 11607, 1: 2299, 2: 734, 3: 259, 4: 115, 5: 74, 6: 57, 7: 31, 9: 27, 8: 18, 10: 15, 13: 11, 11: 10, 12: 9, 14: 5, 18: 5, 15: 3, 19: 2, 60: 2, 17: 2, 24: 2, 20: 2, 32: 1, 44: 1, 43: 1, 16: 1, 40: 1, 34: 1, 82: 1, 23: 1, 22: 1, 180: 1, 41: 1})}\n",
      "\n"
     ]
    }
   ],
   "source": [
    "for y in ['useful','stars','funny','cool']:\n",
    "    print({y:Counter(x[y] for x in big_json)})\n",
    "    print()"
   ]
  },
  {
   "cell_type": "code",
   "execution_count": 117,
   "id": "cb9463b6-f3c0-42ad-bd8c-5cc8a01ff06f",
   "metadata": {},
   "outputs": [],
   "source": [
    "\n",
    "#Wrapper for analysis  -- not too sure if the inside functions should throw outside anot it's quite task specific\n",
    "def analyze_business(chosen_business):\n",
    "    \n",
    "    #collating all reviews into one string\n",
    "    all_dem_reviews = ''.join([x['text'] for x in chosen_business])\n",
    "\n",
    "    def clean_text(sum_string):\n",
    "        s = re.sub('[\\r\\n\\s]+',' ',sum_string) #clean whitespce and newline\n",
    "        return s\n",
    "\n",
    "    all_dem_clean_reviews = clean_text(all_dem_reviews)\n",
    "\n",
    "    #for word distribution, we need to clean all punctuations and symbols as well as standardize the case\n",
    "    def build_word_frequency(text,blacklist=[],stemmer=None):\n",
    "        assert type(text) == str, \"Expecting a str input\"\n",
    "        s = re.sub('[^a-z]+',' ',text.lower())\n",
    "        s = re.sub('[\\n\\r\\s]+',' ',s)\n",
    "        vocab = Counter()\n",
    "        for word in s.split(' '):\n",
    "            if word in blacklist:\n",
    "                continue\n",
    "            if stemmer!= None:\n",
    "                word = stemmer.stem(word)\n",
    "            vocab.update([word])  #preventing the counter object to update using each letter by using []\n",
    "        return vocab\n",
    "\n",
    "    review_vocab_bef_stem = build_word_frequency(all_dem_clean_reviews,blacklist=en_stopwords)\n",
    "    review_vocab_after_stem = build_word_frequency(all_dem_clean_reviews,blacklist=en_stopwords,stemmer = ps)\n",
    "\n",
    "    print(\"Before stemming, most 10 common words:\")\n",
    "    for x in review_vocab_bef_stem.most_common(10):\n",
    "        print('\\t',x[0].ljust(15,' '),x[1])  #justify the column abit\n",
    "\n",
    "    print('\\n\\n')\n",
    "\n",
    "    print(\"After stemming, most 10 common words:\")\n",
    "    for x in review_vocab_after_stem.most_common(10):\n",
    "        print('\\t',x[0].ljust(15,' '),x[1])\n",
    "    \n",
    "    #Plotting the word distribution\n",
    "    def plot_word_freq_dist(the_vocab):\n",
    "        fig = plt.figure()\n",
    "        ax = fig.add_subplot(1, 1, 1)\n",
    "\n",
    "        line = ax.plot(the_vocab.values())\n",
    "\n",
    "        ax.set_yscale('log')\n",
    "        plt.show()\n",
    "\n",
    "    plot_word_freq_dist(review_vocab_after_stem)\n",
    "        \n"
   ]
  },
  {
   "cell_type": "code",
   "execution_count": 115,
   "id": "7933cf87-f944-4c26-83d2-1a614499a18a",
   "metadata": {},
   "outputs": [
    {
     "name": "stdout",
     "output_type": "stream",
     "text": [
      "Before stemming, most 10 common words:\n",
      "\t food            135\n",
      "\t good            72\n",
      "\t buffet          63\n",
      "\t place           52\n",
      "\t chinese         44\n",
      "\t like            39\n",
      "\t service         33\n",
      "\t time            33\n",
      "\t back            32\n",
      "\t eat             28\n",
      "\n",
      "\n",
      "\n",
      "After stemming, most 10 common words:\n",
      "\t food            135\n",
      "\t buffet          76\n",
      "\t good            73\n",
      "\t place           57\n",
      "\t chines          44\n",
      "\t like            44\n",
      "\t eat             40\n",
      "\t go              39\n",
      "\t time            35\n",
      "\t servic          34\n"
     ]
    },
    {
     "data": {
      "image/png": "[encoded data removed]",
      "text/plain": [
       "<Figure size 432x288 with 1 Axes>"
      ]
     },
     "metadata": {
      "needs_background": "light"
     },
     "output_type": "display_data"
    }
   ],
   "source": [
    "analyze_business(chosen_business_1)"
   ]
  },
  {
   "cell_type": "code",
   "execution_count": 116,
   "id": "9efa1578-cde4-461b-ac24-ed4fb38d58b8",
   "metadata": {},
   "outputs": [
    {
     "name": "stdout",
     "output_type": "stream",
     "text": [
      "Before stemming, most 10 common words:\n",
      "\t food            115\n",
      "\t service         57\n",
      "\t denny           56\n",
      "\t great           42\n",
      "\t server          41\n",
      "\t like            40\n",
      "\t good            40\n",
      "\t time            39\n",
      "\t go              39\n",
      "\t get             37\n",
      "\n",
      "\n",
      "\n",
      "After stemming, most 10 common words:\n",
      "\t food            115\n",
      "\t denni           80\n",
      "\t order           68\n",
      "\t servic          58\n",
      "\t go              57\n",
      "\t time            51\n",
      "\t server          51\n",
      "\t get             49\n",
      "\t place           47\n",
      "\t like            43\n"
     ]
    },
    {
     "data": {
      "image/png": "[encoded data removed]",
      "text/plain": [
       "<Figure size 432x288 with 1 Axes>"
      ]
     },
     "metadata": {
      "needs_background": "light"
     },
     "output_type": "display_data"
    }
   ],
   "source": [
    "analyze_business(chosen_business_2)"
   ]
  },
  {
   "cell_type": "markdown",
   "id": "f423f51a-ed3a-46d3-a21b-fc0d658c109a",
   "metadata": {},
   "source": [
    "## 3.2.2 POS Tagging\n",
    "\n",
    "```\n",
    " git blame manekiyong\n",
    "```"
   ]
  },
  {
   "cell_type": "markdown",
   "id": "6922af46-6584-45b6-899f-fac25f87fd4f",
   "metadata": {},
   "source": [
    "## 3.2.3 Writing Styles\n",
    "\n",
    "```\n",
    "git blame khengquanlim\n",
    "```"
   ]
  },
  {
   "cell_type": "markdown",
   "id": "c7efba8a-49b7-4f56-93c4-da55e4e816fd",
   "metadata": {},
   "source": [
    "## 3.2.4 WTF \n",
    "\n",
    "```\n",
    "git blame sun aixin\n",
    "\n",
    "consider word cloud\n",
    "```"
   ]
  },
  {
   "cell_type": "markdown",
   "id": "ba7b2607-2b87-43f0-871c-62266770969f",
   "metadata": {},
   "source": [
    "## 3.3 Indicative Adjective Phrases \n",
    "\n",
    "gonna need:\n",
    "* Adjective pair extractor\n",
    "* tf-idf "
   ]
  },
  {
   "cell_type": "code",
   "execution_count": null,
   "id": "00e69ffb-5bb9-4c9e-83cf-c86581021ddd",
   "metadata": {},
   "outputs": [],
   "source": []
  }
 ],
 "metadata": {
  "kernelspec": {
   "display_name": "Torch",
   "language": "python",
   "name": "torch"
  },
  "language_info": {
   "codemirror_mode": {
    "name": "ipython",
    "version": 3
   },
   "file_extension": ".py",
   "mimetype": "text/x-python",
   "name": "python",
   "nbconvert_exporter": "python",
   "pygments_lexer": "ipython3",
   "version": "3.9.6"
  }
 },
 "nbformat": 4,
 "nbformat_minor": 5
}
