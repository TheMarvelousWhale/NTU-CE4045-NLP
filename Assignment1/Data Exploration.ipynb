{
 "cells": [
  {
   "cell_type": "code",
   "execution_count": 38,
   "id": "5e611cfb-3341-4510-8846-21773484dfd9",
   "metadata": {},
   "outputs": [],
   "source": [
    "import requests\n",
    "from bs4 import BeautifulSoup\n",
    "from nltk.tokenize import sent_tokenize, word_tokenize\n",
    "from nltk.stem import PorterStemmer, WordNetLemmatizer\n",
    "from collections import Counter\n",
    "import json,re,random\n",
    "ps = PorterStemmer()\n",
    "lz = WordNetLemmatizer()\n",
    "\n"
   ]
  },
  {
   "cell_type": "code",
   "execution_count": 25,
   "id": "13638ef0-39d4-402c-8692-50ee54404413",
   "metadata": {},
   "outputs": [],
   "source": [
    "sample_file = './reviewSamples20.json'\n",
    "\n",
    "with open(sample_file,'r') as f:\n",
    "    raw_data = f.read()"
   ]
  },
  {
   "cell_type": "code",
   "execution_count": 40,
   "id": "112524aa-1ec3-499c-86c5-f8e091a2a291",
   "metadata": {},
   "outputs": [
    {
     "name": "stdout",
     "output_type": "stream",
     "text": [
      "Processed 20 lines of data\n",
      "\n",
      "\n",
      "Sample data\n",
      "{\n",
      "    \"business_id\": \"GdCRQU3VCh_x8fY84mbwYQ\",\n",
      "    \"cool\": 3,\n",
      "    \"date\": \"2011-02-13 17:46:55\",\n",
      "    \"funny\": 1,\n",
      "    \"review_id\": \"yMXmJzpEah6XfS_SSu920A\",\n",
      "    \"stars\": 5.0,\n",
      "    \"text\": \"Man, I love Toronto! Hiding in a strip mall on Overlea, find a dingy looking restaurant that serves up fantastic, cheap kabob...be warned regardless of when you come here you'll likely be waiting for a table as this place is always overrun with people...If you're a fan of perfectly grilled spicy meat, you must try this place out...now that I've been here I need to limit how many times I go here per month :)\\n\\nTake the drive out and have some kabob...if you don't own a car, borrow one or get a zipcar membership...totally worth it!\",\n",
      "    \"useful\": 1,\n",
      "    \"user_id\": \"MQq_1AlcDWsyNs7Ot8J4OQ\"\n",
      "}\n"
     ]
    }
   ],
   "source": [
    "def process_raw_data(data_in_weird_format):\n",
    "    data = data_in_weird_format.split('}\\n')\n",
    "    return [x+'}' for x in data if x != '']\n",
    "data = process_raw_data(raw_data)\n",
    "print(f'Processed {len(data)} lines of data')\n",
    "\n",
    "_sample_data = json.loads(random.choice(data))\n",
    "print('\\n\\nSample data')\n",
    "print(json.dumps(_sample_data, indent=4, sort_keys=True))"
   ]
  },
  {
   "cell_type": "code",
   "execution_count": null,
   "id": "c5e0e060-bf51-48a9-8d05-070300d10365",
   "metadata": {},
   "outputs": [],
   "source": []
  }
 ],
 "metadata": {
  "kernelspec": {
   "display_name": "Torch",
   "language": "python",
   "name": "torch"
  },
  "language_info": {
   "codemirror_mode": {
    "name": "ipython",
    "version": 3
   },
   "file_extension": ".py",
   "mimetype": "text/x-python",
   "name": "python",
   "nbconvert_exporter": "python",
   "pygments_lexer": "ipython3",
   "version": "3.9.6"
  }
 },
 "nbformat": 4,
 "nbformat_minor": 5
}
