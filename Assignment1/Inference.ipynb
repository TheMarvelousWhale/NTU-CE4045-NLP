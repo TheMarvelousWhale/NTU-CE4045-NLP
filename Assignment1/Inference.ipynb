{
 "cells": [
  {
   "cell_type": "markdown",
   "id": "e4ae1305-87c0-4e2a-889b-aed7ec031396",
   "metadata": {},
   "source": [
    "# Inference pipeline for Chiayu \n",
    "\n",
    "This page shows how to run a trained model to get its prediction \\\n",
    "What is needed is:\n",
    "* the model file in pt \n",
    "* the config.json for the initialization of the model architecture\n",
    "* the vocab and merges file for the tokenizer -- we will then add our tokens inside so i dont have more files to deal with"
   ]
  },
  {
   "cell_type": "code",
   "execution_count": 5,
   "id": "249c3745-b799-4323-a4b0-161fc1249571",
   "metadata": {},
   "outputs": [],
   "source": [
    "from transformers import AutoTokenizer, AutoModelForPreTraining ,AutoConfig\n",
    "import torch\n",
    "import time"
   ]
  },
  {
   "cell_type": "code",
   "execution_count": 7,
   "id": "72fd8999-e328-4a4a-8d02-7f2ca09f8c00",
   "metadata": {},
   "outputs": [],
   "source": [
    "model_dir = './colab_output/'\n",
    "model_output = model_dir + 'pretty-lion-15.pt'\n",
    "\n",
    "\n",
    "SPECIAL_TOKENS  = { \"bos_token\": \"<|BOS|>\",\n",
    "                    \"eos_token\": \"<|EOS|>\",\n",
    "                    \"unk_token\": \"<|UNK|>\",                    \n",
    "                    \"pad_token\": \"<|PAD|>\",\n",
    "                    \"sep_token\": \"<|SEP|>\"}\n",
    "\n",
    "tokenizer = AutoTokenizer.from_pretrained(model_dir) \n",
    "tokenizer.add_special_tokens(SPECIAL_TOKENS)\n",
    "\n",
    "model_config = AutoConfig.from_pretrained(model_dir+'config.json', \n",
    "                                    bos_token_id=tokenizer.bos_token_id,\n",
    "                                    eos_token_id=tokenizer.eos_token_id,\n",
    "                                    sep_token_id=tokenizer.sep_token_id,\n",
    "                                    pad_token_id=tokenizer.pad_token_id,\n",
    "                                    output_hidden_states=False)\n",
    "\n",
    "model = AutoModelForPreTraining.from_pretrained(model_output, config=model_config)\n",
    "\n"
   ]
  },
  {
   "cell_type": "code",
   "execution_count": 15,
   "id": "db203ef7-f7b3-4aaf-82e4-0532c05b8312",
   "metadata": {},
   "outputs": [
    {
     "name": "stdout",
     "output_type": "stream",
     "text": [
      "I've been going to this location several times and every time I order a pizza from here the crust is not even warm. The toppings are thin on top of each other. They have a weird sauce they put in the pizza which is really weird for me. It was good but I was disappointed.\n",
      "\n",
      "\n",
      "------ Processing time is: 4.392829656600952s\n"
     ]
    }
   ],
   "source": [
    "#device = 'cpu' \n",
    "device = 'cpu'\n",
    "\n",
    "rating = 'boring, not funny, not funny, horrible'\n",
    "\n",
    "def gen_suggestions(rating,model):\n",
    "    prompt = SPECIAL_TOKENS['bos_token'] + rating + SPECIAL_TOKENS['sep_token']\n",
    "    generated = torch.tensor(tokenizer.encode(prompt)).unsqueeze(0).to(device)\n",
    "    model.to(device)\n",
    "    model.eval();\n",
    "\n",
    "      # Top-p (nucleus) text generation (10 samples):\n",
    "    sample_outputs = model.generate(generated, \n",
    "                                      do_sample=True,   \n",
    "                                      min_length=50, \n",
    "                                      max_length=128,\n",
    "                                      top_k=10,                                 \n",
    "                                      top_p=0.7,        \n",
    "                                      temperature=0.9,\n",
    "                                      repetition_penalty=2.0,\n",
    "                                      num_return_sequences=1\n",
    "                                      )\n",
    "    texts = []\n",
    "    for i, sample_output in enumerate(sample_outputs):\n",
    "            text = tokenizer.decode(sample_output, skip_special_tokens=True)   \n",
    "            texts.append(text[len(rating):])\n",
    "    print(texts[0])\n",
    "start_time = time.time()\n",
    "gen_suggestions('boring, not funny, not funny, horrible',model)\n",
    "end_time = time.time()\n",
    "print(f\"\\n\\n------ Processing time is: {end_time-start_time}s\")"
   ]
  },
  {
   "cell_type": "markdown",
   "id": "d12f2afa-de50-455d-95ea-109cc973664f",
   "metadata": {},
   "source": [
    "#to deploy to gcloud\n",
    "\n",
    "gcloud builds submit --tag gcr.io/PROJECT-ID/SERVICE-NAME \\\n",
    "gcloud run deploy --image gcr.io/PROJECT-ID/SERVICE-NAME --platform managed"
   ]
  }
 ],
 "metadata": {
  "kernelspec": {
   "display_name": "Torch",
   "language": "python",
   "name": "torch"
  },
  "language_info": {
   "codemirror_mode": {
    "name": "ipython",
    "version": 3
   },
   "file_extension": ".py",
   "mimetype": "text/x-python",
   "name": "python",
   "nbconvert_exporter": "python",
   "pygments_lexer": "ipython3",
   "version": "3.9.6"
  }
 },
 "nbformat": 4,
 "nbformat_minor": 5
}
