{
 "cells": [
  {
   "cell_type": "code",
   "execution_count": 1,
   "id": "f7bafc9e-71c4-42c7-af0d-36d8561b0c23",
   "metadata": {},
   "outputs": [
    {
     "name": "stderr",
     "output_type": "stream",
     "text": [
      "C:\\Users\\hoang\\Anaconda3\\envs\\Torch\\lib\\site-packages\\torchaudio\\extension\\extension.py:13: UserWarning: torchaudio C++ extension is not available.\n",
      "  warnings.warn('torchaudio C++ extension is not available.')\n",
      "C:\\Users\\hoang\\Anaconda3\\envs\\Torch\\lib\\site-packages\\torchaudio\\backend\\utils.py:89: UserWarning: No audio backend is available.\n",
      "  warnings.warn('No audio backend is available.')\n"
     ]
    }
   ],
   "source": [
    "from transformers import pipeline\n",
    "\n",
    "generator = pipeline(\"text-generation\")\n"
   ]
  },
  {
   "cell_type": "code",
   "execution_count": 4,
   "id": "ae4dde71-2f57-44f5-bac8-9c789c930ce7",
   "metadata": {},
   "outputs": [
    {
     "name": "stdout",
     "output_type": "stream",
     "text": [
      "Processed 20 lines of data\n",
      "\n",
      "\n",
      "Sample data\n",
      "{\n",
      "    \"business_id\": \"eU_713ec6fTGNO4BegRaww\",\n",
      "    \"cool\": 0,\n",
      "    \"date\": \"2013-01-20 13:25:59\",\n",
      "    \"funny\": 0,\n",
      "    \"review_id\": \"fdiNeiN_hoCxCMy2wTRW9g\",\n",
      "    \"stars\": 4.0,\n",
      "    \"text\": \"I'll be the first to admit that I was not excited about going to La Tavolta. Being a food snob, when a group of friends suggested we go for dinner I looked online at the menu and to me there was nothing special and it seemed overpriced.  Im also not big on ordering pasta when I go out. Alas, I was outnumbered. Thank goodness! I ordered the sea bass special. It was to die for. Cooked perfectly, seasoned perfectly, perfect portion. I can not say enough good things about this dish. When the server asked how it was he seemed very proud of the dish and said, \\\" doesn't she (the chef) do an incredible job?\\\" She does. \\n\\nMy hubby got the crab tortellini and also loved his. I heard \\\"mmmm this is so good\\\" from all around the table. Our waiter was super nice and even gave us free desserts because we were some of the last people in the restaurant. Service was very slow and the place was PACKED but we had our jugs of wine and a large group with good conversation so it didn't seem to bother anyone.\\n\\nSo-\\n\\nDo order the calamari and fried zucchini appetizers. Leave out the mussels. \\n\\nIf they have the sea bass special, I highly recommend it. The chicken parm and crab tortellini were also very good and very big. The chicken Romano was a bit bland. The house salads were teeny. \\n\\nDo make a reservation but still expect to wait for your food. Go with a large group of people and plan for it to be loud. Don't go with a date unless you're fighting and don't feel like hearing anything they have to say.  Ask to sit in the side room if it's available.\",\n",
      "    \"useful\": 0,\n",
      "    \"user_id\": \"w31MKYsNFMrjhWxxAb5wIw\"\n",
      "}\n"
     ]
    }
   ],
   "source": [
    "import json,random\n",
    "sample_file = './reviewSamples20.json'\n",
    "\n",
    "#data importing and formating\n",
    "def process_raw_data(data_in_weird_format_file):\n",
    "    with open(data_in_weird_format_file,'r') as f:\n",
    "        raw_data = f.read()\n",
    "    data = raw_data.split('}\\n')\n",
    "    return [x+'}' for x in data if x != '']\n",
    "data = process_raw_data(sample_file)\n",
    "print(f'Processed {len(data)} lines of data')\n",
    "\n",
    "_sample_data = json.loads(random.choice(data))\n",
    "print('\\n\\nSample data')\n",
    "print(json.dumps(_sample_data, indent=4, sort_keys=True))"
   ]
  },
  {
   "cell_type": "code",
   "execution_count": 6,
   "id": "3e6ccf70-9311-473e-8b13-04451d2c9e69",
   "metadata": {},
   "outputs": [
    {
     "data": {
      "text/plain": [
       "'cool: 0; funny: 0; useful: 0; stars: 4.0; text: I\\'ll be the first to admit that I was not excited about going to La Tavolta. Being a food snob, when a group of friends suggested we go for dinner I looked online at the menu and to me there was nothing special and it seemed overpriced.  Im also not big on ordering pasta when I go out. Alas, I was outnumbered. Thank goodness! I ordered the sea bass special. It was to die for. Cooked perfectly, seasoned perfectly, perfect portion. I can not say enough good things about this dish. When the server asked how it was he seemed very proud of the dish and said, \" doesn\\'t she (the chef) do an incredible job?\" She does. \\n\\nMy hubby got the crab tortellini and also loved his. I heard \"mmmm this is so good\" from all around the table. Our waiter was super nice and even gave us free desserts because we were some of the last people in the restaurant. Service was very slow and the place was PACKED but we had our jugs of wine and a large group with good conversation so it didn\\'t seem to bother anyone.\\n\\nSo-\\n\\nDo order the calamari and fried zucchini appetizers. Leave out the mussels. \\n\\nIf they have the sea bass special, I highly recommend it. The chicken parm and crab tortellini were also very good and very big. The chicken Romano was a bit bland. The house salads were teeny. \\n\\nDo make a reservation but still expect to wait for your food. Go with a large group of people and plan for it to be loud. Don\\'t go with a date unless you\\'re fighting and don\\'t feel like hearing anything they have to say.  Ask to sit in the side room if it\\'s available.'"
      ]
     },
     "execution_count": 6,
     "metadata": {},
     "output_type": "execute_result"
    }
   ],
   "source": [
    "def json_to_input(_json):\n",
    "    return f'cool: {_json[\"cool\"]}; funny: {_json[\"funny\"]}; useful: {_json[\"useful\"]}; stars: {_json[\"stars\"]}; text: {_json[\"text\"]}'\n",
    "\n",
    "json_to_input(_sample_data)"
   ]
  },
  {
   "cell_type": "code",
   "execution_count": 7,
   "id": "d51a0b09-62e3-4588-aa18-63fa4c94a76b",
   "metadata": {},
   "outputs": [
    {
     "name": "stderr",
     "output_type": "stream",
     "text": [
      "Setting `pad_token_id` to `eos_token_id`:50256 for open-end generation.\n"
     ]
    },
    {
     "data": {
      "text/plain": [
       "[{'generated_text': 'cool: 0; funny: 0; useful: 0; stars: 4.0; text: I\\'ll be the first to admit I don\\'t really care about the word \\'bad,\\' but I was pretty close about some of those points. The last one about the \\'good\\' story of the film, even though I\\'m still very upset, does not exactly fit the narrative narrative of Star Wars: Star Wars: The Clone Wars that I have been involved with. It doesn\\'t do \"heavier\" justice, but there is a clear indication of how, and that is that I think this little tale would still be relevant to the ongoing Clone Wars storyline and a large part of the Star Wars film as a whole would still be relevant to the overall narrative that I am interested in. I think a number of the issues that had arisen that I believe are still issues of relevance to the current and future Clone Wars storylines really resonate to me in some of the bigger, more dramatic moments that come up right into the actual Star Wars story in a much bigger way, where you have characters who come across all this in very real times, who have that level of character exploration right after a big event, there just won\\'t be the same level of focus'}]"
      ]
     },
     "execution_count": 7,
     "metadata": {},
     "output_type": "execute_result"
    }
   ],
   "source": [
    "generator(\"cool: 0; funny: 0; useful: 0; stars: 4.0; text: I\\'ll be the first to admit\",max_length = 250)"
   ]
  },
  {
   "cell_type": "code",
   "execution_count": null,
   "id": "0da22fca-6148-43ba-b539-fde860740efd",
   "metadata": {},
   "outputs": [],
   "source": []
  }
 ],
 "metadata": {
  "kernelspec": {
   "display_name": "Torch",
   "language": "python",
   "name": "torch"
  },
  "language_info": {
   "codemirror_mode": {
    "name": "ipython",
    "version": 3
   },
   "file_extension": ".py",
   "mimetype": "text/x-python",
   "name": "python",
   "nbconvert_exporter": "python",
   "pygments_lexer": "ipython3",
   "version": "3.9.6"
  }
 },
 "nbformat": 4,
 "nbformat_minor": 5
}
