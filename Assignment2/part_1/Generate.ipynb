{
 "cells": [
  {
   "cell_type": "code",
   "execution_count": 1,
   "id": "eaedf231-9715-40a5-ac59-6a2f278ccf65",
   "metadata": {},
   "outputs": [],
   "source": [
    "import data\n",
    "import model\n",
    "import random\n",
    "import torch"
   ]
  },
  {
   "cell_type": "code",
   "execution_count": 6,
   "id": "f459291a-c62a-4509-94ab-a06a4cbea806",
   "metadata": {},
   "outputs": [],
   "source": [
    "device = 'cuda' if torch.cuda.is_available() else 'cpu'"
   ]
  },
  {
   "cell_type": "code",
   "execution_count": 13,
   "id": "0f4d3959-8181-44f1-976e-761fe3a00189",
   "metadata": {},
   "outputs": [],
   "source": [
    "from model import FNNModel\n",
    "import data_fnn as data"
   ]
  },
  {
   "cell_type": "code",
   "execution_count": 14,
   "id": "80187970-bbbb-4638-b64e-e1d8df39149b",
   "metadata": {},
   "outputs": [],
   "source": [
    "corpus = data.Corpus('./data/wikitext-2')\n",
    "ntokens = len(corpus.dictionary)"
   ]
  },
  {
   "cell_type": "code",
   "execution_count": 41,
   "id": "ae1c9cad-8464-4ee6-9497-3a979ab35043",
   "metadata": {},
   "outputs": [
    {
     "data": {
      "text/plain": [
       "FNNModel(\n",
       "  (embeddings): Embedding(28743, 200)\n",
       "  (linear1): Linear(in_features=1400, out_features=200, bias=True)\n",
       "  (linear2): Linear(in_features=200, out_features=28743, bias=False)\n",
       ")"
      ]
     },
     "execution_count": 41,
     "metadata": {},
     "output_type": "execute_result"
    }
   ],
   "source": [
    "vocab_len = len(corpus.dictionary)\n",
    "best_model_path = 'debug_best_model_8_gram_1_200H.dat'\n",
    "\n",
    "\n",
    "model =FNNModel(vocab_len,200, 7, 200)\n",
    "model.load_state_dict(torch.load(best_model_path))\n",
    "device = torch.device(\"cuda\")\n",
    "model.to(device)"
   ]
  },
  {
   "cell_type": "code",
   "execution_count": 42,
   "id": "793243d2-b362-4997-8e80-56163ae2c8b4",
   "metadata": {},
   "outputs": [
    {
     "name": "stdout",
     "output_type": "stream",
     "text": [
      "### carried and escorted by polish . investigation | of the conservatoire , alkan was able to be the first to be a common\n",
      "### overseas , and in july and august | . alkan was the first of the star , and the piano op. 39 ,\n",
      "### north korean breakthrough during the night of | the op. 39 . the grieving piano op. 39 , op. 39 , op. 39\n",
      "### and pursued a career in the national | park . the common starling is the common starling . the common starling is common\n",
      "### in the case of low - pass | to the unaided of the hydrogen and the first time in the episode , the\n"
     ]
    }
   ],
   "source": [
    "model.eval()\n",
    "for _ in range(5):\n",
    "    seed_pos = random.randint(0, len(corpus.test)-7)\n",
    "    seed_span = corpus.test[seed_pos:seed_pos+7] # Pick random span from corpus\n",
    "    generated_text=seed_span.to(device)\n",
    "    for i in range(15):\n",
    "        with torch.no_grad():\n",
    "            output = model(generated_text[-7:])\n",
    "            word_id = torch.argmax(output, dim=1)\n",
    "            generated_text = torch.cat((generated_text,word_id))\n",
    "            #print(generated_text[-8:])\n",
    "    sent = [corpus.dictionary.idx2word[i] for i in generated_text] \n",
    "    sent = sent[:7] + ['|']+sent[7:]\n",
    "    print(\"###\",' '.join(sent))"
   ]
  },
  {
   "cell_type": "code",
   "execution_count": null,
   "id": "622cb986-cd5d-4149-b0d9-1848559c3471",
   "metadata": {},
   "outputs": [],
   "source": []
  }
 ],
 "metadata": {
  "kernelspec": {
   "display_name": "WhyAmIStillAlive",
   "language": "python",
   "name": "tor"
  },
  "language_info": {
   "codemirror_mode": {
    "name": "ipython",
    "version": 3
   },
   "file_extension": ".py",
   "mimetype": "text/x-python",
   "name": "python",
   "nbconvert_exporter": "python",
   "pygments_lexer": "ipython3",
   "version": "3.9.7"
  }
 },
 "nbformat": 4,
 "nbformat_minor": 5
}
